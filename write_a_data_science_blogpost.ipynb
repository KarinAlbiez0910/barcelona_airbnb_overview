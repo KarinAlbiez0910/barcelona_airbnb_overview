{
 "cells": [
  {
   "cell_type": "code",
   "execution_count": 109,
   "metadata": {},
   "outputs": [],
   "source": [
    "import pandas as pd\n",
    "import numpy as np\n",
    "import seaborn as sns\n",
    "import matplotlib.pyplot as plt\n",
    "from matplotlib.pyplot import figure\n",
    "import json\n",
    "from sklearn.linear_model import LinearRegression\n",
    "from sklearn.model_selection import train_test_split\n",
    "from sklearn.metrics import r2_score, mean_squared_error"
   ]
  },
  {
   "cell_type": "markdown",
   "metadata": {},
   "source": [
    "## 0. Business understanding\n",
    "If you were to buy a property in Barcelona and rent it out as an Airbnb apartment, the following 3 business questions\n",
    "can be of interest\n",
    "1. What are the top 15 amenities in terms of frequency (=amenities I should consider offering)\n",
    "2. What are the top ten locations in terms of popularity?\n",
    "3. What factors are related to the renting price?"
   ]
  },
  {
   "cell_type": "markdown",
   "metadata": {},
   "source": [
    "## 1. Data Understanding"
   ]
  },
  {
   "cell_type": "code",
   "execution_count": 118,
   "metadata": {},
   "outputs": [],
   "source": [
    "# reading in the Barcelona Airbnb listings_df\n",
    "listings_df = pd.read_csv(\"listings.csv.gz\",compression='gzip')"
   ]
  },
  {
   "cell_type": "code",
   "execution_count": 119,
   "metadata": {},
   "outputs": [
    {
     "data": {
      "text/html": [
       "<div>\n",
       "<style scoped>\n",
       "    .dataframe tbody tr th:only-of-type {\n",
       "        vertical-align: middle;\n",
       "    }\n",
       "\n",
       "    .dataframe tbody tr th {\n",
       "        vertical-align: top;\n",
       "    }\n",
       "\n",
       "    .dataframe thead th {\n",
       "        text-align: right;\n",
       "    }\n",
       "</style>\n",
       "<table border=\"1\" class=\"dataframe\">\n",
       "  <thead>\n",
       "    <tr style=\"text-align: right;\">\n",
       "      <th></th>\n",
       "      <th>id</th>\n",
       "      <th>scrape_id</th>\n",
       "      <th>host_id</th>\n",
       "      <th>host_listings_count</th>\n",
       "      <th>host_total_listings_count</th>\n",
       "      <th>latitude</th>\n",
       "      <th>longitude</th>\n",
       "      <th>accommodates</th>\n",
       "      <th>bathrooms</th>\n",
       "      <th>bedrooms</th>\n",
       "      <th>...</th>\n",
       "      <th>review_scores_cleanliness</th>\n",
       "      <th>review_scores_checkin</th>\n",
       "      <th>review_scores_communication</th>\n",
       "      <th>review_scores_location</th>\n",
       "      <th>review_scores_value</th>\n",
       "      <th>calculated_host_listings_count</th>\n",
       "      <th>calculated_host_listings_count_entire_homes</th>\n",
       "      <th>calculated_host_listings_count_private_rooms</th>\n",
       "      <th>calculated_host_listings_count_shared_rooms</th>\n",
       "      <th>reviews_per_month</th>\n",
       "    </tr>\n",
       "  </thead>\n",
       "  <tbody>\n",
       "    <tr>\n",
       "      <th>count</th>\n",
       "      <td>1.707900e+04</td>\n",
       "      <td>1.707900e+04</td>\n",
       "      <td>1.707900e+04</td>\n",
       "      <td>17030.000000</td>\n",
       "      <td>17030.000000</td>\n",
       "      <td>17079.000000</td>\n",
       "      <td>17079.000000</td>\n",
       "      <td>17079.000000</td>\n",
       "      <td>0.0</td>\n",
       "      <td>16504.000000</td>\n",
       "      <td>...</td>\n",
       "      <td>11790.000000</td>\n",
       "      <td>11784.000000</td>\n",
       "      <td>11789.000000</td>\n",
       "      <td>11783.000000</td>\n",
       "      <td>11782.000000</td>\n",
       "      <td>17079.000000</td>\n",
       "      <td>17079.000000</td>\n",
       "      <td>17079.000000</td>\n",
       "      <td>17079.000000</td>\n",
       "      <td>11984.000000</td>\n",
       "    </tr>\n",
       "    <tr>\n",
       "      <th>mean</th>\n",
       "      <td>2.717895e+07</td>\n",
       "      <td>2.021071e+13</td>\n",
       "      <td>1.141008e+08</td>\n",
       "      <td>20.288432</td>\n",
       "      <td>20.288432</td>\n",
       "      <td>41.392045</td>\n",
       "      <td>2.167038</td>\n",
       "      <td>3.371509</td>\n",
       "      <td>NaN</td>\n",
       "      <td>1.662203</td>\n",
       "      <td>...</td>\n",
       "      <td>4.590252</td>\n",
       "      <td>4.749701</td>\n",
       "      <td>4.745069</td>\n",
       "      <td>4.761001</td>\n",
       "      <td>4.518300</td>\n",
       "      <td>17.973476</td>\n",
       "      <td>15.592716</td>\n",
       "      <td>2.157152</td>\n",
       "      <td>0.093565</td>\n",
       "      <td>1.012710</td>\n",
       "    </tr>\n",
       "    <tr>\n",
       "      <th>std</th>\n",
       "      <td>1.512193e+07</td>\n",
       "      <td>3.964960e+00</td>\n",
       "      <td>1.174252e+08</td>\n",
       "      <td>46.402286</td>\n",
       "      <td>46.402286</td>\n",
       "      <td>0.014600</td>\n",
       "      <td>0.017812</td>\n",
       "      <td>2.227039</td>\n",
       "      <td>NaN</td>\n",
       "      <td>1.004980</td>\n",
       "      <td>...</td>\n",
       "      <td>0.559118</td>\n",
       "      <td>0.464123</td>\n",
       "      <td>0.478392</td>\n",
       "      <td>0.386122</td>\n",
       "      <td>0.535292</td>\n",
       "      <td>35.705521</td>\n",
       "      <td>35.179902</td>\n",
       "      <td>8.935116</td>\n",
       "      <td>0.886143</td>\n",
       "      <td>1.200465</td>\n",
       "    </tr>\n",
       "    <tr>\n",
       "      <th>min</th>\n",
       "      <td>1.867400e+04</td>\n",
       "      <td>2.021071e+13</td>\n",
       "      <td>3.073000e+03</td>\n",
       "      <td>0.000000</td>\n",
       "      <td>0.000000</td>\n",
       "      <td>41.349430</td>\n",
       "      <td>2.089110</td>\n",
       "      <td>0.000000</td>\n",
       "      <td>NaN</td>\n",
       "      <td>1.000000</td>\n",
       "      <td>...</td>\n",
       "      <td>0.000000</td>\n",
       "      <td>0.000000</td>\n",
       "      <td>0.000000</td>\n",
       "      <td>0.000000</td>\n",
       "      <td>0.000000</td>\n",
       "      <td>1.000000</td>\n",
       "      <td>0.000000</td>\n",
       "      <td>0.000000</td>\n",
       "      <td>0.000000</td>\n",
       "      <td>0.010000</td>\n",
       "    </tr>\n",
       "    <tr>\n",
       "      <th>25%</th>\n",
       "      <td>1.480228e+07</td>\n",
       "      <td>2.021071e+13</td>\n",
       "      <td>8.964998e+06</td>\n",
       "      <td>1.000000</td>\n",
       "      <td>1.000000</td>\n",
       "      <td>41.380585</td>\n",
       "      <td>2.156680</td>\n",
       "      <td>2.000000</td>\n",
       "      <td>NaN</td>\n",
       "      <td>1.000000</td>\n",
       "      <td>...</td>\n",
       "      <td>4.500000</td>\n",
       "      <td>4.710000</td>\n",
       "      <td>4.700000</td>\n",
       "      <td>4.690000</td>\n",
       "      <td>4.380000</td>\n",
       "      <td>1.000000</td>\n",
       "      <td>0.000000</td>\n",
       "      <td>0.000000</td>\n",
       "      <td>0.000000</td>\n",
       "      <td>0.150000</td>\n",
       "    </tr>\n",
       "    <tr>\n",
       "      <th>50%</th>\n",
       "      <td>2.852894e+07</td>\n",
       "      <td>2.021071e+13</td>\n",
       "      <td>6.134564e+07</td>\n",
       "      <td>3.000000</td>\n",
       "      <td>3.000000</td>\n",
       "      <td>41.389530</td>\n",
       "      <td>2.167960</td>\n",
       "      <td>2.000000</td>\n",
       "      <td>NaN</td>\n",
       "      <td>1.000000</td>\n",
       "      <td>...</td>\n",
       "      <td>4.750000</td>\n",
       "      <td>4.890000</td>\n",
       "      <td>4.890000</td>\n",
       "      <td>4.860000</td>\n",
       "      <td>4.630000</td>\n",
       "      <td>3.000000</td>\n",
       "      <td>1.000000</td>\n",
       "      <td>1.000000</td>\n",
       "      <td>0.000000</td>\n",
       "      <td>0.570000</td>\n",
       "    </tr>\n",
       "    <tr>\n",
       "      <th>75%</th>\n",
       "      <td>4.085153e+07</td>\n",
       "      <td>2.021071e+13</td>\n",
       "      <td>2.046628e+08</td>\n",
       "      <td>15.000000</td>\n",
       "      <td>15.000000</td>\n",
       "      <td>41.401830</td>\n",
       "      <td>2.177610</td>\n",
       "      <td>4.000000</td>\n",
       "      <td>NaN</td>\n",
       "      <td>2.000000</td>\n",
       "      <td>...</td>\n",
       "      <td>4.940000</td>\n",
       "      <td>5.000000</td>\n",
       "      <td>5.000000</td>\n",
       "      <td>5.000000</td>\n",
       "      <td>4.830000</td>\n",
       "      <td>15.000000</td>\n",
       "      <td>12.000000</td>\n",
       "      <td>1.000000</td>\n",
       "      <td>0.000000</td>\n",
       "      <td>1.500000</td>\n",
       "    </tr>\n",
       "    <tr>\n",
       "      <th>max</th>\n",
       "      <td>5.087501e+07</td>\n",
       "      <td>2.021071e+13</td>\n",
       "      <td>4.112358e+08</td>\n",
       "      <td>547.000000</td>\n",
       "      <td>547.000000</td>\n",
       "      <td>41.463060</td>\n",
       "      <td>2.228480</td>\n",
       "      <td>16.000000</td>\n",
       "      <td>NaN</td>\n",
       "      <td>16.000000</td>\n",
       "      <td>...</td>\n",
       "      <td>5.000000</td>\n",
       "      <td>5.000000</td>\n",
       "      <td>5.000000</td>\n",
       "      <td>5.000000</td>\n",
       "      <td>5.000000</td>\n",
       "      <td>174.000000</td>\n",
       "      <td>174.000000</td>\n",
       "      <td>90.000000</td>\n",
       "      <td>15.000000</td>\n",
       "      <td>14.570000</td>\n",
       "    </tr>\n",
       "  </tbody>\n",
       "</table>\n",
       "<p>8 rows × 39 columns</p>\n",
       "</div>"
      ],
      "text/plain": [
       "                 id     scrape_id       host_id  host_listings_count  \\\n",
       "count  1.707900e+04  1.707900e+04  1.707900e+04         17030.000000   \n",
       "mean   2.717895e+07  2.021071e+13  1.141008e+08            20.288432   \n",
       "std    1.512193e+07  3.964960e+00  1.174252e+08            46.402286   \n",
       "min    1.867400e+04  2.021071e+13  3.073000e+03             0.000000   \n",
       "25%    1.480228e+07  2.021071e+13  8.964998e+06             1.000000   \n",
       "50%    2.852894e+07  2.021071e+13  6.134564e+07             3.000000   \n",
       "75%    4.085153e+07  2.021071e+13  2.046628e+08            15.000000   \n",
       "max    5.087501e+07  2.021071e+13  4.112358e+08           547.000000   \n",
       "\n",
       "       host_total_listings_count      latitude     longitude  accommodates  \\\n",
       "count               17030.000000  17079.000000  17079.000000  17079.000000   \n",
       "mean                   20.288432     41.392045      2.167038      3.371509   \n",
       "std                    46.402286      0.014600      0.017812      2.227039   \n",
       "min                     0.000000     41.349430      2.089110      0.000000   \n",
       "25%                     1.000000     41.380585      2.156680      2.000000   \n",
       "50%                     3.000000     41.389530      2.167960      2.000000   \n",
       "75%                    15.000000     41.401830      2.177610      4.000000   \n",
       "max                   547.000000     41.463060      2.228480     16.000000   \n",
       "\n",
       "       bathrooms      bedrooms  ...  review_scores_cleanliness  \\\n",
       "count        0.0  16504.000000  ...               11790.000000   \n",
       "mean         NaN      1.662203  ...                   4.590252   \n",
       "std          NaN      1.004980  ...                   0.559118   \n",
       "min          NaN      1.000000  ...                   0.000000   \n",
       "25%          NaN      1.000000  ...                   4.500000   \n",
       "50%          NaN      1.000000  ...                   4.750000   \n",
       "75%          NaN      2.000000  ...                   4.940000   \n",
       "max          NaN     16.000000  ...                   5.000000   \n",
       "\n",
       "       review_scores_checkin  review_scores_communication  \\\n",
       "count           11784.000000                 11789.000000   \n",
       "mean                4.749701                     4.745069   \n",
       "std                 0.464123                     0.478392   \n",
       "min                 0.000000                     0.000000   \n",
       "25%                 4.710000                     4.700000   \n",
       "50%                 4.890000                     4.890000   \n",
       "75%                 5.000000                     5.000000   \n",
       "max                 5.000000                     5.000000   \n",
       "\n",
       "       review_scores_location  review_scores_value  \\\n",
       "count            11783.000000         11782.000000   \n",
       "mean                 4.761001             4.518300   \n",
       "std                  0.386122             0.535292   \n",
       "min                  0.000000             0.000000   \n",
       "25%                  4.690000             4.380000   \n",
       "50%                  4.860000             4.630000   \n",
       "75%                  5.000000             4.830000   \n",
       "max                  5.000000             5.000000   \n",
       "\n",
       "       calculated_host_listings_count  \\\n",
       "count                    17079.000000   \n",
       "mean                        17.973476   \n",
       "std                         35.705521   \n",
       "min                          1.000000   \n",
       "25%                          1.000000   \n",
       "50%                          3.000000   \n",
       "75%                         15.000000   \n",
       "max                        174.000000   \n",
       "\n",
       "       calculated_host_listings_count_entire_homes  \\\n",
       "count                                 17079.000000   \n",
       "mean                                     15.592716   \n",
       "std                                      35.179902   \n",
       "min                                       0.000000   \n",
       "25%                                       0.000000   \n",
       "50%                                       1.000000   \n",
       "75%                                      12.000000   \n",
       "max                                     174.000000   \n",
       "\n",
       "       calculated_host_listings_count_private_rooms  \\\n",
       "count                                  17079.000000   \n",
       "mean                                       2.157152   \n",
       "std                                        8.935116   \n",
       "min                                        0.000000   \n",
       "25%                                        0.000000   \n",
       "50%                                        1.000000   \n",
       "75%                                        1.000000   \n",
       "max                                       90.000000   \n",
       "\n",
       "       calculated_host_listings_count_shared_rooms  reviews_per_month  \n",
       "count                                 17079.000000       11984.000000  \n",
       "mean                                      0.093565           1.012710  \n",
       "std                                       0.886143           1.200465  \n",
       "min                                       0.000000           0.010000  \n",
       "25%                                       0.000000           0.150000  \n",
       "50%                                       0.000000           0.570000  \n",
       "75%                                       0.000000           1.500000  \n",
       "max                                      15.000000          14.570000  \n",
       "\n",
       "[8 rows x 39 columns]"
      ]
     },
     "execution_count": 119,
     "metadata": {},
     "output_type": "execute_result"
    }
   ],
   "source": [
    "# getting an overview of the numeric columns\n",
    "listings_df.describe()"
   ]
  },
  {
   "cell_type": "code",
   "execution_count": 120,
   "metadata": {},
   "outputs": [
    {
     "data": {
      "text/html": [
       "<div>\n",
       "<style scoped>\n",
       "    .dataframe tbody tr th:only-of-type {\n",
       "        vertical-align: middle;\n",
       "    }\n",
       "\n",
       "    .dataframe tbody tr th {\n",
       "        vertical-align: top;\n",
       "    }\n",
       "\n",
       "    .dataframe thead th {\n",
       "        text-align: right;\n",
       "    }\n",
       "</style>\n",
       "<table border=\"1\" class=\"dataframe\">\n",
       "  <thead>\n",
       "    <tr style=\"text-align: right;\">\n",
       "      <th></th>\n",
       "      <th>id</th>\n",
       "      <th>listing_url</th>\n",
       "      <th>scrape_id</th>\n",
       "      <th>last_scraped</th>\n",
       "      <th>name</th>\n",
       "      <th>description</th>\n",
       "      <th>neighborhood_overview</th>\n",
       "      <th>picture_url</th>\n",
       "      <th>host_id</th>\n",
       "      <th>host_url</th>\n",
       "      <th>...</th>\n",
       "      <th>review_scores_communication</th>\n",
       "      <th>review_scores_location</th>\n",
       "      <th>review_scores_value</th>\n",
       "      <th>license</th>\n",
       "      <th>instant_bookable</th>\n",
       "      <th>calculated_host_listings_count</th>\n",
       "      <th>calculated_host_listings_count_entire_homes</th>\n",
       "      <th>calculated_host_listings_count_private_rooms</th>\n",
       "      <th>calculated_host_listings_count_shared_rooms</th>\n",
       "      <th>reviews_per_month</th>\n",
       "    </tr>\n",
       "  </thead>\n",
       "  <tbody>\n",
       "    <tr>\n",
       "      <th>0</th>\n",
       "      <td>18674</td>\n",
       "      <td>https://www.airbnb.com/rooms/18674</td>\n",
       "      <td>20210707180233</td>\n",
       "      <td>2021-07-07</td>\n",
       "      <td>Huge flat for 8 people close to Sagrada Familia</td>\n",
       "      <td>110m2 apartment to rent in Barcelona. Located ...</td>\n",
       "      <td>Apartment in Barcelona located in the heart of...</td>\n",
       "      <td>https://a0.muscache.com/pictures/13031453/413c...</td>\n",
       "      <td>71615</td>\n",
       "      <td>https://www.airbnb.com/users/show/71615</td>\n",
       "      <td>...</td>\n",
       "      <td>4.90</td>\n",
       "      <td>4.75</td>\n",
       "      <td>4.30</td>\n",
       "      <td>HUTB-002062</td>\n",
       "      <td>t</td>\n",
       "      <td>18</td>\n",
       "      <td>18</td>\n",
       "      <td>0</td>\n",
       "      <td>0</td>\n",
       "      <td>0.23</td>\n",
       "    </tr>\n",
       "    <tr>\n",
       "      <th>1</th>\n",
       "      <td>23197</td>\n",
       "      <td>https://www.airbnb.com/rooms/23197</td>\n",
       "      <td>20210707180233</td>\n",
       "      <td>2021-07-08</td>\n",
       "      <td>Forum CCIB DeLuxe★Spacious &amp;Elegant★Large Balcony</td>\n",
       "      <td>Beautiful spacious apartment, large terrace, 5...</td>\n",
       "      <td>Strategically located in the Parc del Fòrum ar...</td>\n",
       "      <td>https://a0.muscache.com/pictures/738532/806da1...</td>\n",
       "      <td>90417</td>\n",
       "      <td>https://www.airbnb.com/users/show/90417</td>\n",
       "      <td>...</td>\n",
       "      <td>4.98</td>\n",
       "      <td>4.67</td>\n",
       "      <td>4.69</td>\n",
       "      <td>HUTB-005057</td>\n",
       "      <td>f</td>\n",
       "      <td>2</td>\n",
       "      <td>2</td>\n",
       "      <td>0</td>\n",
       "      <td>0</td>\n",
       "      <td>0.78</td>\n",
       "    </tr>\n",
       "    <tr>\n",
       "      <th>2</th>\n",
       "      <td>32711</td>\n",
       "      <td>https://www.airbnb.com/rooms/32711</td>\n",
       "      <td>20210707180233</td>\n",
       "      <td>2021-07-08</td>\n",
       "      <td>Sagrada Familia area - Còrsega 1</td>\n",
       "      <td>A lovely two bedroom apartment only 250 m from...</td>\n",
       "      <td>What's nearby  &lt;br /&gt;This apartment is located...</td>\n",
       "      <td>https://a0.muscache.com/pictures/357b25e4-f414...</td>\n",
       "      <td>135703</td>\n",
       "      <td>https://www.airbnb.com/users/show/135703</td>\n",
       "      <td>...</td>\n",
       "      <td>4.79</td>\n",
       "      <td>4.81</td>\n",
       "      <td>4.40</td>\n",
       "      <td>HUTB-001722</td>\n",
       "      <td>t</td>\n",
       "      <td>3</td>\n",
       "      <td>3</td>\n",
       "      <td>0</td>\n",
       "      <td>0</td>\n",
       "      <td>0.62</td>\n",
       "    </tr>\n",
       "    <tr>\n",
       "      <th>3</th>\n",
       "      <td>34241</td>\n",
       "      <td>https://www.airbnb.com/rooms/34241</td>\n",
       "      <td>20210707180233</td>\n",
       "      <td>2021-07-07</td>\n",
       "      <td>Private Double room - Plaza Real</td>\n",
       "      <td>&lt;b&gt;The space&lt;/b&gt;&lt;br /&gt;It is a Private double r...</td>\n",
       "      <td>NaN</td>\n",
       "      <td>https://a0.muscache.com/pictures/2437facc-2fe7...</td>\n",
       "      <td>73163</td>\n",
       "      <td>https://www.airbnb.com/users/show/73163</td>\n",
       "      <td>...</td>\n",
       "      <td>4.60</td>\n",
       "      <td>4.20</td>\n",
       "      <td>3.40</td>\n",
       "      <td>Exempt</td>\n",
       "      <td>f</td>\n",
       "      <td>2</td>\n",
       "      <td>1</td>\n",
       "      <td>1</td>\n",
       "      <td>0</td>\n",
       "      <td>0.06</td>\n",
       "    </tr>\n",
       "    <tr>\n",
       "      <th>4</th>\n",
       "      <td>34981</td>\n",
       "      <td>https://www.airbnb.com/rooms/34981</td>\n",
       "      <td>20210707180233</td>\n",
       "      <td>2021-07-07</td>\n",
       "      <td>VIDRE HOME PLAZA REAL on LAS RAMBLAS</td>\n",
       "      <td>Spacious apartment for large families or group...</td>\n",
       "      <td>Located in Ciutat Vella in the Gothic Quarter,...</td>\n",
       "      <td>https://a0.muscache.com/pictures/c4d1723c-e479...</td>\n",
       "      <td>73163</td>\n",
       "      <td>https://www.airbnb.com/users/show/73163</td>\n",
       "      <td>...</td>\n",
       "      <td>4.71</td>\n",
       "      <td>4.72</td>\n",
       "      <td>4.50</td>\n",
       "      <td>HUTB-001506</td>\n",
       "      <td>f</td>\n",
       "      <td>2</td>\n",
       "      <td>1</td>\n",
       "      <td>1</td>\n",
       "      <td>0</td>\n",
       "      <td>1.54</td>\n",
       "    </tr>\n",
       "  </tbody>\n",
       "</table>\n",
       "<p>5 rows × 74 columns</p>\n",
       "</div>"
      ],
      "text/plain": [
       "      id                         listing_url       scrape_id last_scraped  \\\n",
       "0  18674  https://www.airbnb.com/rooms/18674  20210707180233   2021-07-07   \n",
       "1  23197  https://www.airbnb.com/rooms/23197  20210707180233   2021-07-08   \n",
       "2  32711  https://www.airbnb.com/rooms/32711  20210707180233   2021-07-08   \n",
       "3  34241  https://www.airbnb.com/rooms/34241  20210707180233   2021-07-07   \n",
       "4  34981  https://www.airbnb.com/rooms/34981  20210707180233   2021-07-07   \n",
       "\n",
       "                                                name  \\\n",
       "0    Huge flat for 8 people close to Sagrada Familia   \n",
       "1  Forum CCIB DeLuxe★Spacious &Elegant★Large Balcony   \n",
       "2                   Sagrada Familia area - Còrsega 1   \n",
       "3                   Private Double room - Plaza Real   \n",
       "4               VIDRE HOME PLAZA REAL on LAS RAMBLAS   \n",
       "\n",
       "                                         description  \\\n",
       "0  110m2 apartment to rent in Barcelona. Located ...   \n",
       "1  Beautiful spacious apartment, large terrace, 5...   \n",
       "2  A lovely two bedroom apartment only 250 m from...   \n",
       "3  <b>The space</b><br />It is a Private double r...   \n",
       "4  Spacious apartment for large families or group...   \n",
       "\n",
       "                               neighborhood_overview  \\\n",
       "0  Apartment in Barcelona located in the heart of...   \n",
       "1  Strategically located in the Parc del Fòrum ar...   \n",
       "2  What's nearby  <br />This apartment is located...   \n",
       "3                                                NaN   \n",
       "4  Located in Ciutat Vella in the Gothic Quarter,...   \n",
       "\n",
       "                                         picture_url  host_id  \\\n",
       "0  https://a0.muscache.com/pictures/13031453/413c...    71615   \n",
       "1  https://a0.muscache.com/pictures/738532/806da1...    90417   \n",
       "2  https://a0.muscache.com/pictures/357b25e4-f414...   135703   \n",
       "3  https://a0.muscache.com/pictures/2437facc-2fe7...    73163   \n",
       "4  https://a0.muscache.com/pictures/c4d1723c-e479...    73163   \n",
       "\n",
       "                                   host_url  ... review_scores_communication  \\\n",
       "0   https://www.airbnb.com/users/show/71615  ...                        4.90   \n",
       "1   https://www.airbnb.com/users/show/90417  ...                        4.98   \n",
       "2  https://www.airbnb.com/users/show/135703  ...                        4.79   \n",
       "3   https://www.airbnb.com/users/show/73163  ...                        4.60   \n",
       "4   https://www.airbnb.com/users/show/73163  ...                        4.71   \n",
       "\n",
       "  review_scores_location review_scores_value      license instant_bookable  \\\n",
       "0                   4.75                4.30  HUTB-002062                t   \n",
       "1                   4.67                4.69  HUTB-005057                f   \n",
       "2                   4.81                4.40  HUTB-001722                t   \n",
       "3                   4.20                3.40       Exempt                f   \n",
       "4                   4.72                4.50  HUTB-001506                f   \n",
       "\n",
       "  calculated_host_listings_count calculated_host_listings_count_entire_homes  \\\n",
       "0                             18                                          18   \n",
       "1                              2                                           2   \n",
       "2                              3                                           3   \n",
       "3                              2                                           1   \n",
       "4                              2                                           1   \n",
       "\n",
       "  calculated_host_listings_count_private_rooms  \\\n",
       "0                                            0   \n",
       "1                                            0   \n",
       "2                                            0   \n",
       "3                                            1   \n",
       "4                                            1   \n",
       "\n",
       "  calculated_host_listings_count_shared_rooms reviews_per_month  \n",
       "0                                           0              0.23  \n",
       "1                                           0              0.78  \n",
       "2                                           0              0.62  \n",
       "3                                           0              0.06  \n",
       "4                                           0              1.54  \n",
       "\n",
       "[5 rows x 74 columns]"
      ]
     },
     "execution_count": 120,
     "metadata": {},
     "output_type": "execute_result"
    }
   ],
   "source": [
    "# viewing the first rows of the dataset\n",
    "listings_df.head()"
   ]
  },
  {
   "cell_type": "code",
   "execution_count": 5,
   "metadata": {},
   "outputs": [
    {
     "data": {
      "text/plain": [
       "bathrooms                       17079\n",
       "calendar_updated                17079\n",
       "neighborhood_overview            6678\n",
       "neighbourhood                    6678\n",
       "host_about                       6434\n",
       "                                ...  \n",
       "latitude                            0\n",
       "neighbourhood_group_cleansed        0\n",
       "neighbourhood_cleansed              0\n",
       "availability_60                     0\n",
       "id                                  0\n",
       "Length: 74, dtype: int64"
      ]
     },
     "execution_count": 5,
     "metadata": {},
     "output_type": "execute_result"
    }
   ],
   "source": [
    "# checking the columns for missing values\n",
    "np.sum(listings_df.isna()).sort_values(ascending=False)"
   ]
  },
  {
   "cell_type": "code",
   "execution_count": 6,
   "metadata": {},
   "outputs": [
    {
     "data": {
      "text/plain": [
       "17079"
      ]
     },
     "execution_count": 6,
     "metadata": {},
     "output_type": "execute_result"
    }
   ],
   "source": [
    "# checking the length of the dataset\n",
    "len(listings_df)"
   ]
  },
  {
   "cell_type": "code",
   "execution_count": 7,
   "metadata": {},
   "outputs": [
    {
     "data": {
      "text/plain": [
       "Index(['id', 'listing_url', 'scrape_id', 'last_scraped', 'name', 'description',\n",
       "       'neighborhood_overview', 'picture_url', 'host_id', 'host_url',\n",
       "       'host_name', 'host_since', 'host_location', 'host_about',\n",
       "       'host_response_time', 'host_response_rate', 'host_acceptance_rate',\n",
       "       'host_is_superhost', 'host_thumbnail_url', 'host_picture_url',\n",
       "       'host_neighbourhood', 'host_listings_count',\n",
       "       'host_total_listings_count', 'host_verifications',\n",
       "       'host_has_profile_pic', 'host_identity_verified', 'neighbourhood',\n",
       "       'neighbourhood_cleansed', 'neighbourhood_group_cleansed', 'latitude',\n",
       "       'longitude', 'property_type', 'room_type', 'accommodates', 'bathrooms',\n",
       "       'bathrooms_text', 'bedrooms', 'beds', 'amenities', 'price',\n",
       "       'minimum_nights', 'maximum_nights', 'minimum_minimum_nights',\n",
       "       'maximum_minimum_nights', 'minimum_maximum_nights',\n",
       "       'maximum_maximum_nights', 'minimum_nights_avg_ntm',\n",
       "       'maximum_nights_avg_ntm', 'calendar_updated', 'has_availability',\n",
       "       'availability_30', 'availability_60', 'availability_90',\n",
       "       'availability_365', 'calendar_last_scraped', 'number_of_reviews',\n",
       "       'number_of_reviews_ltm', 'number_of_reviews_l30d', 'first_review',\n",
       "       'last_review', 'review_scores_rating', 'review_scores_accuracy',\n",
       "       'review_scores_cleanliness', 'review_scores_checkin',\n",
       "       'review_scores_communication', 'review_scores_location',\n",
       "       'review_scores_value', 'license', 'instant_bookable',\n",
       "       'calculated_host_listings_count',\n",
       "       'calculated_host_listings_count_entire_homes',\n",
       "       'calculated_host_listings_count_private_rooms',\n",
       "       'calculated_host_listings_count_shared_rooms', 'reviews_per_month'],\n",
       "      dtype='object')"
      ]
     },
     "execution_count": 7,
     "metadata": {},
     "output_type": "execute_result"
    }
   ],
   "source": [
    "# viewing the names of the columns\n",
    "listings_df.columns"
   ]
  },
  {
   "cell_type": "markdown",
   "metadata": {},
   "source": [
    "## 2. Data Analysis"
   ]
  },
  {
   "cell_type": "markdown",
   "metadata": {},
   "source": [
    "### 2.1: Question 1: What are the top 15 amenities by number of occurrence?"
   ]
  },
  {
   "cell_type": "code",
   "execution_count": 8,
   "metadata": {},
   "outputs": [
    {
     "data": {
      "text/plain": [
       "0        [\"Washer\", \"Host greets you\", \"Iron\", \"Hair dr...\n",
       "1        [\"Washer\", \"Iron\", \"Hair dryer\", \"Security cam...\n",
       "2        [\"Washer\", \"Iron\", \"Hair dryer\", \"Security cam...\n",
       "3        [\"Oven\", \"Microwave\", \"Kitchen\", \"Elevator\", \"...\n",
       "4        [\"Washer\", \"Extra pillows and blankets\", \"Iron...\n",
       "                               ...                        \n",
       "17074    [\"Iron\", \"Hair dryer\", \"Hangers\", \"TV\", \"Wifi\"...\n",
       "17075    [\"Washer\", \"Iron\", \"Hair dryer\", \"Long term st...\n",
       "17076    [\"Kitchen\", \"Wifi\", \"Smoke alarm\", \"Dedicated ...\n",
       "17077    [\"Washer\", \"Kitchen\", \"Hangers\", \"Security cam...\n",
       "17078    [\"Washer\", \"Iron\", \"Hair dryer\", \"Hangers\", \"K...\n",
       "Name: amenities, Length: 17079, dtype: object"
      ]
     },
     "execution_count": 8,
     "metadata": {},
     "output_type": "execute_result"
    }
   ],
   "source": [
    "# get an overview of column amenities\n",
    "listings_df['amenities']"
   ]
  },
  {
   "cell_type": "code",
   "execution_count": 9,
   "metadata": {},
   "outputs": [],
   "source": [
    "# create a dictionary of all possible amenities and the overall count\n",
    "def find_possible_amenities():\n",
    "    \"\"\"\n",
    "    This function creates a dictionary with the amenity denomination as the key and the total count as the value\n",
    "    Arguments:\n",
    "        None\n",
    "    Returns:\n",
    "        amenities - dictionary of amenities and the count of their occurrence\n",
    "        \n",
    "    \"\"\"\n",
    "    amenities_dict = {}\n",
    "    for index, value in listings_df['amenities'].iteritems():\n",
    "        # convert string representation of the list to a list datatype\n",
    "        value = json.loads(value)\n",
    "        for item in value:\n",
    "            if item not in amenities_dict.keys():\n",
    "                amenities_dict[item] = 1\n",
    "            else:\n",
    "                amenities_dict[item] = amenities_dict[item] + 1\n",
    "    return amenities_dict                "
   ]
  },
  {
   "cell_type": "code",
   "execution_count": 10,
   "metadata": {},
   "outputs": [],
   "source": [
    "# execute find_possible_amenities() function and receive the dictionary in the variable amenities\n",
    "amenities = find_possible_amenities()"
   ]
  },
  {
   "cell_type": "code",
   "execution_count": 11,
   "metadata": {},
   "outputs": [
    {
     "name": "stdout",
     "output_type": "stream",
     "text": [
      "{'Washer': 13273, 'Host greets you': 4873, 'Iron': 12708, 'Hair dryer': 13190, 'Hangers': 13830, 'TV': 10776, 'Wifi': 16414, 'Kitchen': 14954, 'Hot water': 10861, 'Dedicated workspace': 9259, 'Elevator': 9323, 'Heating': 13071, 'Free street parking': 1250, 'Shampoo': 10116, 'Air conditioning': 10924, 'Long term stays allowed': 15135, 'Paid parking on premises': 1920, 'Crib': 3471, 'Essentials': 15511, 'Security cameras on property': 1515, 'Dishes and silverware': 9371, 'Paid parking off premises': 3947, 'Coffee maker': 8300, 'Dryer': 4578, 'High chair': 2699, 'Cooking basics': 8739, 'Patio or balcony': 5513, 'Oven': 6909, 'Bed linens': 7845, 'Microwave': 8616, 'Pack ’n Play/travel crib': 1436, 'Dishwasher': 4669, 'Smoke alarm': 4121, 'Refrigerator': 9144, 'Stove': 6371, 'Fire extinguisher': 4071, 'Luggage dropoff allowed': 3541, 'TV with standard cable': 1847, 'Smart lock': 521, 'First aid kit': 3789, 'Cable TV': 1943, 'Carbon monoxide alarm': 2780, 'Extra pillows and blankets': 4287, 'Cleaning before checkout': 576, 'Private entrance': 2520, 'Lock on bedroom door': 2634, 'Shower gel': 2329, 'Breakfast': 1051, 'Room-darkening shades': 2086, 'Beachfront': 362, 'Toaster': 953, 'Pour-over coffee': 206, 'Freezer': 1387, 'Drying rack for clothing': 935, 'Clothing storage: closet': 490, 'Dining table': 1058, 'Pocket wifi': 997, 'Hot water kettle': 1015, 'Bathtub': 1204, 'Beach essentials': 521, 'Building staff': 558, 'Outdoor dining area': 232, 'BBQ grill': 188, 'Outdoor furniture': 455, 'Children’s books and toys': 698, 'Baby bath': 599, 'Babysitter recommendations': 630, 'Body soap': 931, 'Shared outdoor pool': 9, 'Paid parking garage on premises': 71, 'Free parking on premises': 544, 'Electric stove': 116, 'Paid parking garage off premises': 226, 'Backyard': 804, 'Window guards': 257, 'Ethernet connection': 1138, 'Lockbox': 527, 'Laundromat nearby': 753, 'Washer –\\xa0In unit': 87, 'Keypad': 270, 'Mini fridge': 178, 'Single level home': 828, 'Lake access': 10, 'Waterfront': 409, '20\" TV': 1, 'Wifi – 300 Mbps': 48, 'Free washer': 6, 'Pool': 562, 'Private fenced garden or backyard': 40, 'Board games': 74, 'Cleaning products': 925, 'Nespresso machine': 567, 'Conditioner': 314, 'Safe': 249, 'Rice maker': 59, 'Dedicated workspace: desk and table': 6, 'TV with Netflix, Amazon Prime Video, standard cable': 1, 'Outlet covers': 223, 'Wine glasses': 897, 'Gym': 286, 'Self check-in': 42, 'Pets allowed': 22, 'Bedroom comforts': 160, 'Bathroom essentials': 160, 'Game console': 72, 'Full kitchen': 133, 'Baby monitor': 61, 'Children’s dinnerware': 394, 'Dedicated workspace: table': 132, 'Changing table': 120, 'Outdoor shower': 57, 'Portable fans': 535, 'Bidet': 209, 'Clothing storage': 406, 'various body soap': 1, 'Central air conditioning': 170, 'Central heating': 172, 'Free washer – In unit': 192, 'HDTV with standard cable': 14, 'various shampoo': 1, 'Portable heater': 72, 'Ceiling fan': 154, 'Dedicated workspace: desk': 57, 'Mosquito net': 32, '42\" HDTV with Amazon Prime Video, Netflix': 1, 'Fire pit': 6, 'Wifi – 100 Mbps': 46, 'Ikea  electric stove': 1, 'Garnier Original Remedies Oliva Mítica (the green one) shampoo': 1, 'Retro style 2 doors Cream color refrigerator': 1, 'Bikes': 21, 'Barbecue utensils': 91, 'Free driveway parking on premises – 1 space': 1, 'Quality body soap': 1, 'Game console: Nintendo Wii': 2, 'Free dryer – In unit': 84, '32\" HDTV with Amazon Prime Video, Netflix, premium cable, standard cable': 1, 'EV charger': 97, 'Paid parking lot off premises': 80, 'Clothing storage: closet and wardrobe': 17, 'fagor stainless steel oven': 1, 'AEG induction stove': 1, 'Indoor fireplace': 226, 'Fireplace guards': 63, 'Baby safety gates': 62, 'Sound system': 58, '1 bote grande basico al entrar. No se repone despues. shampoo': 2, 'Wifi – 600 Mbps': 42, 'Dryer –\\xa0In unit': 30, 'Clothing storage: closet, dresser, and wardrobe': 4, 'Table corner guards': 83, 'Baking sheet': 502, 'Electrolux refrigerator': 2, 'Record player': 35, 'Sony sound system': 1, 'Piano': 27, 'Stainless steel gas stove': 11, 'Clothing storage: wardrobe': 77, 'Game console: PS4': 3, 'Bread maker': 117, 'Private patio or balcony': 90, 'HDTV': 31, 'marca blanca conditioner': 1, 'marca blanca body soap': 1, 'marca blanca shampoo': 1, 'Dedicated workspace: office chair and desk': 12, 'Stainless steel oven': 108, 'Induction stove': 77, 'Hot tub': 159, 'UNA ESTANTERIA PARA USO PRIVADO EN EL FRIGORIFICO refrigerator': 1, 'Gas stove': 41, 'Sabó body soap': 1, 'BOSCH oven': 1, 'BOSCH refrigerator': 4, 'LG sound system': 1, 'Xampú shampoo': 1, 'Paid washer – In unit': 20, 'Dedicated workspace: desk and office chair': 10, 'Radiant heating': 60, 'Portable air conditioning': 43, 'Paid washer – In building': 8, 'Paid street parking off premises': 71, 'Paid dryer – In building': 9, 'HDTV with Amazon Prime Video, Netflix, standard cable': 5, 'Gel de baño body soap': 1, 'TV with premium cable': 1, 'sanex body soap': 5, 'Sony sound system with aux': 2, 'Blanca shampoo': 1, 'Ikea stainless steel oven': 1, '53\" HDTV with standard cable': 1, 'Window AC unit': 28, 'Blanca conditioner': 1, 'Ikea stainless steel gas stove': 1, 'Blanca body soap': 1, 'Sound system with aux': 4, 'Clothing storage: dresser and closet': 29, '43\" TV': 2, 'Kitchenette': 4, 'Smoking allowed': 22, '32\" TV with Chromecast': 2, 'Clothing storage: wardrobe and closet': 17, 'Standar body soap': 1, '55\" HDTV': 2, 'Clothing storage: closet and dresser': 38, 'Suitable for events': 1, 'BOSCH stainless steel oven': 1, 'Shared pool': 10, 'Ski-in/Ski-out': 31, 'Private garden or backyard': 9, 'Private hot tub': 7, 'teka electric stove': 1, 'Bosch stainless steel oven': 5, 'Children’s books and toys for ages 0-2 years old, 2-5 years old, 5-10 years old, and 10+ years old': 6, '42\" HDTV with standard cable': 3, 'Free residential garage on premises – 1 space': 3, 'soft conditioner': 1, 'soft body soap': 1, 'Private pool': 5, 'TV with premium cable, standard cable': 1, 'HDTV with Netflix': 11, 'Wifi – 50 Mbps': 8, 'Paid parking garage on premises – 1 space': 6, 'MERCADONA body soap': 1, 'MERCADONA conditioner': 1, 'Wifi – 9 Mbps': 1, '50\" HDTV with standard cable': 1, 'Clothing storage: wardrobe, closet, and walk-in closet': 1, 'Stainless steel induction stove': 11, 'Sanex body soap': 4, 'TV with Netflix': 4, 'Free parking garage on premises – 1 space': 6, 'Children’s books and toys for ages 0-2 years old and 2-5 years old': 2, '32\" HDTV with Amazon Prime Video, Netflix, HBO Max, premium cable, standard cable': 1, '32\" TV with Netflix': 1, 'Clothing storage: wardrobe, dresser, and closet': 3, 'HDTV with premium cable, standard cable': 2, 'Candy mmicroondas/horno grande oven': 1, 'Clothing storage: walk-in closet and wardrobe': 3, 'Keurig coffee machine': 36, 'Wifi – 1000 Mbps': 50, 'Clothing storage: walk-in closet': 13, 'Free parking garage on premises': 2, 'Private gym': 2, 'HDTV with Amazon Prime Video, Apple TV, Chromecast, Netflix, standard cable': 1, 'Stainless steel electric stove': 6, 'Sanex / Deliplus body soap': 1, 'Mitsubishi conditioner': 1, 'Dedicated workspace: office chair, table, and desk': 2, '43\" HDTV with standard cable': 4, 'MARSHALL sound system with Bluetooth and aux': 1, 'Children’s books and toys for ages 2-5 years old, 5-10 years old, and 10+ years old': 4, 'Free dryer – In building': 21, 'Free washer – In building': 28, 'TEKA stainless steel oven': 1, 'Dedicated workspace: office chair and table': 3, 'Clothing storage: closet, wardrobe, dresser, and walk-in closet': 1, 'Balay induction stove': 2, 'Balay stainless steel oven': 2, '22\" TV with Chromecast': 1, 'Beko refrigerator': 3, 'Teka oven': 5, '32\" HDTV with standard cable': 10, 'IKEA stainless steel gas stove': 1, 'TV with Chromecast': 1, 'Dedicated workspace: table and office chair': 7, 'Wifi – 5 Mbps': 1, 'Private outdoor rooftop pool': 1, 'Wifi – 150 Mbps': 2, '32\" TV': 1, 'Fagor stainless steel oven': 1, 'Fagor induction stove': 1, 'Zanussi refrigerator': 1, 'Deliplus conditioner': 1, 'Deliplus body soap': 4, 'Teka stainless steel gas stove': 4, 'BALAY gas stove': 1, 'Loreal  shampoo': 1, 'Nivea  body soap': 2, '32\" HDTV with Netflix, HBO Max, standard cable': 1, 'Clothing storage: dresser, closet, and wardrobe': 2, '52\" HDTV': 2, 'Free residential garage on premises': 2, 'Shared fenced garden or backyard': 8, 'Lavandin, Bio certified body soap': 1, 'Clothing storage: wardrobe, closet, and dresser': 3, 'Shared gym nearby': 14, 'Shared indoor heated pool': 3, '42\" HDTV': 2, '55\" HDTV with Amazon Prime Video, Netflix': 3, '48\" HDTV with Amazon Prime Video, Netflix': 1, 'through LG tv sound system': 1, 'Dove body soap': 2, 'JBL sound system with aux': 1, 'TV with Amazon Prime Video, Netflix': 2, 'Free carport on premises': 1, 'Rituals body soap': 1, '52\" HDTV with standard cable': 1, 'Clothing storage: walk-in closet and closet': 2, '55\" HDTV with Netflix, standard cable': 1, 'Samsung Soundbar 150w con subwoofer Bluetooth sound system': 1, 'Dedicated workspace: table and monitor': 1, 'HDTV with standard cable, Netflix': 4, 'HDTV with Netflix, standard cable': 5, 'Svan refrigerator': 2, 'Rommer stainless steel gas stove': 2, 'Rommer stainless steel oven': 2, 'Wifi – 23 Mbps': 2, '33\" HDTV with Netflix, Amazon Prime Video, HBO Max, standard cable': 1, 'Trash compactor': 19, 'Dedicated workspace: desk and monitor': 1, 'Clothing storage: closet, wardrobe, and dresser': 6, 'Shared sauna': 15, 'Shared gym in building': 14, 'Dedicated workspace: table and desk': 7, 'Dedicated workspace: monitor and desk': 1, 'Private sauna': 2, 'Paid valet parking on premises': 1, 'Free dryer': 3, 'PIONEER sound system with Bluetooth and aux': 1, 'SANSUNG refrigerator': 1, 'SANSUNG conditioner': 1, 'TEKA electric stove': 1, 'TEKA oven': 1, 'Mini oven': 1, '50\" HDTV with Amazon Prime Video, Netflix': 1, 'Wifi – 200 Mbps': 3, '28\" TV with HBO Max, Netflix': 1, 'Pool cover': 1, 'Sauna': 3, 'Variety body soap': 1, 'Children’s books and toys for ages 2-5 years old and 5-10 years old': 5, 'Siemens oven': 2, 'Siemens induction stove': 1, 'Siemens refrigerator': 2, 'Dedicated workspace: monitor, office chair, table, and desk': 1, '48\" HDTV with Netflix': 1, 'Wifi – 20 Mbps': 2, 'Clothing storage: walk-in closet, wardrobe, and closet': 2, 'Dedicated workspace: desk, table, and office chair': 3, '37\" TV': 1, 'Paid dryer – In unit': 9, '32\" HDTV': 14, 'h&s body soap': 1, 'TV with HBO Max, standard cable': 1, 'Sannex body soap': 1, 'Pool toys': 1, 'Clothing storage: dresser, wardrobe, and closet': 1, 'Pioneer sound system': 1, '28\" HDTV with Netflix': 2, 'Gym nearby': 3, '43\" HDTV with premium cable, standard cable': 1, '50\" HDTV': 2, 'Smeg refrigerator': 2, 'HDTV with Chromecast': 3, 'Clothing storage: dresser': 8, 'AEG stainless steel oven': 2, '39\" HDTV with Netflix': 1, 'HDTV with Amazon Prime Video, Netflix': 4, 'Bosch refrigerator': 5, '55\" HDTV with Amazon Prime Video, Netflix, standard cable': 1, 'Dedicated workspace: table, desk, and office chair': 7, 'Bluetooth sound system': 16, 'Shared outdoor rooftop pool': 26, 'Clothing storage: walk-in closet and dresser': 1, 'I cant remember stainless steel oven': 1, 'Whirlpool refrigerator': 1, 'Clothing storage: wardrobe and dresser': 5, 'Paid parking lot on premises': 21, '55\" HDTV with Chromecast, standard cable': 1, 'Supermercado  body soap': 1, 'DVD player': 2, 'Juicer': 1, 'CD player': 1, 'Laptop-friendly workspace': 1, 'Blender': 1, 'Alarm system': 2, 'Terrace': 3, \"Chef's kitchen\": 1, 'iPod dock': 2, 'Baby equipment': 1, 'Ping pong table': 4, 'Gated property': 1, 'Garden': 1, 'Parking': 1, 'Satellite TV': 1, 'Library': 1, 'Home theater': 1, 'Game room': 1, 'Foosball table': 1, 'Bar': 1, 'Pool table': 3, 'Powder room': 1, 'Alfresco shower': 1, 'Media room': 1, 'Dedicated workspace: desk, office chair, and table': 7, 'Paid dryer': 5, 'Paid washer': 8, 'Clothing storage: closet and walk-in closet': 3, 'Samsung refrigerator': 2, 'Teka induction stove': 1, 'Usually Revlon. conditioner': 1, 'Depends. Sanex, usually.  body soap': 1, 'Children’s books and toys for ages 5-10 years old and 10+ years old': 2, 'Clothing storage: wardrobe and walk-in closet': 1, 'Children’s books and toys for ages 5-10 years old': 1, 'Simple body soap': 1, 'Bose sound system with Bluetooth and aux': 1, '48\" HDTV': 1, 'convection stainless steel oven': 1, 'LG refrigerator': 6, 'TV with Amazon Prime Video, HBO Max, Netflix': 1, 'SMEG stainless steel oven': 3, 'HDTV with Amazon Prime Video, HBO Max, Netflix': 4, '65\" HDTV with Amazon Prime Video, HBO Max, Netflix, standard cable': 1, 'Office': 1, 'Ironing board': 2, 'Balcony': 1, 'Espresso machine': 1, 'Formal dining area': 2, 'Bluetooth speaker': 2, 'Internet': 1, 'Minibar BTV refrigerator': 1, 'HDTV with standard cable, Amazon Prime Video, Apple TV, Netflix': 1, 'Rosières oven': 1, 'Denon sound system': 1, 'gel de ducha body soap': 1, 'Dedicated workspace: office chair, desk, and table': 3, '40\" TV with standard cable': 1, 'Garnier body soap': 1, 'sunstech, Se puede escuchar musica por todo el piso. Hasta en el baño! sound system with aux': 1, 'C.O. Bigelow Lavender amenities. conditioner': 4, 'C.O. Bigelow Lavender amenities. body soap': 3, 'Shared garden or backyard': 10, 'TV with standard cable, Netflix': 1, 's stove': 1, 'b conditioner': 1, 'x body soap': 2, 'n shampoo': 1, 'a refrigerator': 1, 'Children’s books and toys for ages 0-2 years old': 1, 'HDTV with Netflix, Amazon Prime Video, premium cable, standard cable': 1, 'Sonos sound system': 1, '42\" HDTV with Amazon Prime Video, Chromecast, premium cable': 1, 'Shared patio or balcony': 11, 'Game console: Nintendo Wii and PS3': 1, 'Siemens stainless steel oven': 1, 'Dove shampoo': 2, 'Paid parking lot on premises – 2 spaces': 3, '50\" HDTV with standard cable, Netflix': 1, 'Dedicated workspace: monitor, table, office chair, and desk': 1, '60\" TV': 3, '50\" HDTV with Netflix, Amazon Prime Video': 1, 'HDTV with Netflix, Amazon Prime Video': 1, 'Children’s books and toys for ages 2-5 years old': 2, '40\" HDTV with Netflix, standard cable': 1, 'ikea stainless steel oven': 1, 'biologico conditioner': 1, 'biologico body soap': 1, 'mesa mezclas sound system with aux': 1, 'smeg refrigerator': 2, 'indistinto conditioner': 1, '30\" TV': 1, 'indistinto body soap': 1, 'Welcome amenities Bulgari  shampoo': 1, 'Varias marcas  body soap': 1, '44\" HDTV with Amazon Prime Video, Netflix': 1, 'BALAY stainless steel oven': 1, 'SAIVOD refrigerator': 1, 'Small Bread Oven For Breakfast oven': 1, 'Small Breakfast oven oven': 1, 'bosch refrigerator': 2, '43\" HDTV': 7, '10\" TV with Chromecast': 1, '22\" TV with Netflix': 1, 'Boat slip': 1, 'Bluesky refrigerator': 1, 'HDTV with standard cable, Amazon Prime Video, Chromecast, Netflix': 1, 'Private gym in building': 1, '40\" HDTV with Chromecast': 2, 'Paid parking garage on premises – 35 spaces': 1, 'Malin & Goetz shampoo': 1, 'Children’s books and toys for ages 0-2 years old, 2-5 years old, and 5-10 years old': 11, 'Malin & Goetz body soap': 1, '32\" HDTV with Amazon Prime Video, Apple TV, HBO Max, Netflix, premium cable': 1, 'Lidl  body soap': 1, '55\" TV': 1, '46\" TV with standard cable': 1, '46\" HDTV with standard cable': 4, 'TV with Apple TV': 1, 'cien body soap': 1, 'Teka refrigerator': 1, 'Teka ( induccion) stove': 1, '29\" HDTV with Netflix': 1, 'MITSUBISHI conditioner': 1, 'Wifi – 220 Mbps': 1, '42\" HDTV with standard cable, Amazon Prime Video, Chromecast': 1, 'Rowenta stove': 1, 'Siemens stainless steel induction stove': 1, '55\" HDTV with Chromecast': 1, 'HDTV with Netflix, HBO Max, Amazon Prime Video, Chromecast': 1, 'HDTV with Chromecast, standard cable': 1, 'Loewe body soap': 5, 'Loewe conditioner': 5, 'Loewe shampoo': 3, 'Smeg induction stove': 1, '32\" HDTV with Chromecast': 1, 'SMEG refrigerator': 6, 'body hair body soap': 1, 'Balay oven': 1, 'Balay refrigerator': 1, '32\" HDTV with Amazon Prime Video, Apple TV, Chromecast, HBO Max, Netflix, standard cable': 2, 'PHILIP B conditioner': 3, 'Gaggenau  stainless steel induction stove': 1, 'PHILIP-B shampoo': 3, 'Game console: PS5': 3, '75\" HDTV with Amazon Prime Video, Apple TV, Chromecast, HBO Max, Netflix, premium cable, Roku, standard cable': 1, 'B&O sound system with Bluetooth and aux': 3, 'Dedicated workspace: table, desk, monitor, and office chair': 1, 'Gaggenau  stainless steel oven': 4, ' Acqua di Parma  body soap': 4, 'Harman Kardon sound system with aux': 1, 'Jabón de ducha  body soap': 1, 'HDTV with Netflix, standard cable, Apple TV, Amazon Prime Video': 1, 'Dryer – In building': 5, 'Washer –\\xa0In building': 5, 'Deliplus shampoo': 1, 'HDTV with Netflix, premium cable': 1, '32\" HDTV with Netflix, Amazon Prime Video, standard cable': 1, 'Edesa refrigerator': 1, 'Bonpreu shampoo': 1, 'Bonpreu conditioner': 2, 'TV with Chromecast, standard cable': 1, '43\" HDTV with Amazon Prime Video, Apple TV, Netflix': 1, 'Sound system with Bluetooth and aux': 2, 'Clothing storage: walk-in closet, closet, wardrobe, and dresser': 1, '65\" HDTV with Amazon Prime Video, Apple TV, Chromecast, HBO Max, Netflix, premium cable, Roku': 1, 'PHILIP-B conditioner': 2, 'Gaggenau  stainless steel stove': 1, 'Breakfast buffet available — €19 per person per day': 1, 'Onsite bar — The Princess Crown': 1, 'Slippers': 2, 'Room service': 2, 'Minibar': 2, 'Valet parking — €23/day': 1, 'Laundry services': 4, 'Rooftop pool with poolside bar': 1, 'Fitness center': 1, 'Bed sheets and pillows': 2, 'Toiletries': 3, 'Free wifi': 4, 'Onsite restaurant — Restaurant Voramar': 1, 'teka stainless steel gas stove': 1, 'bosch oven': 1, 'Wifi – 528 Mbps': 1, 'Wifi – 500 Mbps': 3, '32\" HDTV with Netflix, HBO Max, Amazon Prime Video, standard cable': 2, 'Self-parking — €20/stay': 1, 'Breakfast buffet available — €4 per person per day': 1, 'Bosch oven': 1, 'bosch stainless steel oven': 1, '40\" HDTV': 3, 'Wifi – 60 Mbps': 1, '25\" TV': 1, 'TV with Netflix, Amazon Prime Video': 1, 'Kayak': 2, '32\" HDTV with Amazon Prime Video, HBO Max, Netflix, standard cable': 3, '32\" HDTV with Netflix, Amazon Prime Video, HBO Max, standard cable': 1, 'Stainless steel stove': 1, 'candy refrigerator': 1, 'SANKO shampoo': 2, 'SANKO conditioner': 2, 'Clothing storage: wardrobe, dresser, walk-in closet, and closet': 1, 'SMEG stainless steel stove': 1, 'SANKO body soap': 2, 'Dedicated workspace: table, office chair, and desk': 2, '30\" HDTV': 1, '51\" HDTV with Netflix, Amazon Prime Video': 1, 'Self-parking — €25/day': 1, ' linens': 2, 'Limited housekeeping — weekly': 1, 'Continental breakfast available — €12 per person per day': 1, 'Chv body soap': 1, 'Fch stainless steel oven': 1, 'Candy refrigerator': 1, 'HiGuests welcome amenities shampoo': 1, 'dd stainless steel oven': 1, 'kl stainless steel oven': 1, ', refrigerator': 1, 'm oven': 1, 'Grundig refrigerator': 2, 'HDTV with Netflix, premium cable, standard cable': 1, '32\" HDTV with Netflix, standard cable, Amazon Prime Video, Apple TV, HBO Max': 1, 'horno-microondas oven': 7, 'Bosch induction stove': 1, '32\" HDTV with standard cable, Amazon Prime Video, HBO Max, Netflix': 3, 'hotno-microondas oven': 1, 'HDTV with Amazon Prime Video, standard cable, Netflix, Apple TV, Chromecast': 1, ', oven': 1, 'Bottled water': 1, 'Breakfast buffet available for a fee': 1, 'Restaurant': 1, 'Bathrobes': 1, 'Complimentary self parking': 1, 'Limited housekeeping — ': 1, 'Onsite bar': 1, ' toiletries': 1, 'Turndown service': 1, 'Concierge': 1, '32\" HDTV with Amazon Prime Video, Netflix': 1, 'Liebherr refrigerator': 1, 'Candy stainless steel oven': 1, 'Shared hot tub': 3, '65\" HDTV with standard cable': 4, 'Grande y con congelador refrigerator': 1, 'Vitroceramica electric stove': 1, 'nevera refrigerator': 1, 'Clothing storage: dresser and wardrobe': 2, '50\" HDTV with Amazon Prime Video, Apple TV, Chromecast, HBO Max, Netflix, premium cable, Roku, standard cable': 1, 'Game console: PS3': 2, 'Alexa sound system': 8, 'Combinado Horno/Microondas oven': 4, 'Es un combinado Horno-Microondas oven': 1, 'Bosch stainless steel induction stove': 1, '55\" HDTV with Amazon Prime Video, Apple TV, Netflix, premium cable, standard cable': 1, 'Samusung refrigerator': 1, '42\" HDTV with Chromecast': 1, 'Clothing storage: closet, wardrobe, and walk-in closet': 1, '32\" HDTV with standard cable, Netflix, HBO Max, Amazon Prime Video': 1, 'Palmolive body soap': 1, 'Franke oven': 2, 'Shoulder shampoo': 1, '50\" HDTV with Netflix, standard cable': 1, '42\" HDTV with Chromecast, HBO Max, Netflix, standard cable': 1, 'Dedicated workspace: monitor and table': 1, 'Gutmann  stainless steel gas stove': 1, 'Bang & Olufsen sound system with Bluetooth and aux': 2, 'Game console: PS5 and Xbox Series X': 1, 'HDTV with Amazon Prime Video, Chromecast, Apple TV, premium cable, Roku, HBO Max, Netflix, standard cable': 1, 'PHILIP B shampoo': 1, '65\" HDTV with premium cable, Roku, Netflix, HBO Max, Chromecast, Amazon Prime Video, Apple TV': 1, 'Gaggenau  stainless steel gas stove': 1, '`PHILIP B shampoo': 1, 'whirlpool  refrigerator': 1, '48\" TV': 1, 'Pantene conditioner': 1, 'samsung refrigerator': 1, 'TV with Netflix, HBO Max, Amazon Prime Video': 1, 'SMEG - Traditional / Steam Oven  stainless steel oven': 1, 'SMEG - Green    A+ Refrigerator refrigerator': 1, '35\" TV with Chromecast, Netflix': 1, '65\" HDTV with Amazon Prime Video, Apple TV, Chromecast, HBO Max, Netflix, premium cable, Roku, standard cable': 1, 'WOLF stainless steel oven': 1, 'Sub Zero refrigerator': 1, 'Bora stainless steel induction stove': 1, 'PHILIP-B body soap': 1, 'Private gym nearby': 1, 'Clothing storage: wardrobe, dresser, and walk-in closet': 1, 'Wifi – 80 Mbps': 2, 'Our Brand body soap': 1, '32\" HDTV with premium cable': 1, 'Generic body soap': 1, 'Generic shampoo': 1, 'Generic conditioner': 1, 'XXX shampoo': 1, '36\" HDTV': 1, 'XXX body soap': 1, 'PANTENE conditioner': 1, 'teka oven': 1, 'PANTENE shampoo': 1, 'PANTENE body soap': 1, 'BALAY oven': 1, 'sumsung refrigerator': 1, '50\" HDTV with Netflix': 1, 'Kyrey body soap': 1, 'Kyrey shampoo': 1, 'Sharp sound system': 1, 'Paid parking garage on premises – 2 spaces': 1, 'SMEG stainless steel electric stove': 1, 'Clothing storage: walk-in closet, dresser, and closet': 1, '2 Westinghouse conditioner': 1}\n"
     ]
    }
   ],
   "source": [
    "# check if the dictionary looks correct\n",
    "print(amenities)"
   ]
  },
  {
   "cell_type": "code",
   "execution_count": 122,
   "metadata": {},
   "outputs": [],
   "source": [
    "# sort amenities dictionary by value and get the top 15 entries\n",
    "def get_top_15_amenities(amenities):\n",
    "    \"\"\"\n",
    "    This function orders the amenities by the number of occurrence and returns a dictionary with the most frequent\n",
    "    15 amenities\n",
    "    Arguments:\n",
    "        amenities - dictionary holding all possible amenities and their count\n",
    "    Returns:\n",
    "        sorted_amenities_dict - dictionary holding the top 15 amenities ordered by their count\n",
    "        \n",
    "    \"\"\"\n",
    "    sorted_amenities_tuples = sorted(amenities.items(), key=lambda item: item[1], reverse=True)[0:15]\n",
    "    sorted_amenities_dict = {key: value for key, value in sorted_amenities_tuples}\n",
    "    return sorted_amenities_dict"
   ]
  },
  {
   "cell_type": "code",
   "execution_count": 13,
   "metadata": {},
   "outputs": [],
   "source": [
    "# execute function get_top_15_amenities and accept the sorted dict in the variable top_15_amenities\n",
    "top_15_amenities = get_top_15_amenities(amenities)"
   ]
  },
  {
   "cell_type": "code",
   "execution_count": 123,
   "metadata": {},
   "outputs": [
    {
     "name": "stdout",
     "output_type": "stream",
     "text": [
      "{'Wifi': 16414, 'Essentials': 15511, 'Long term stays allowed': 15135, 'Kitchen': 14954, 'Hangers': 13830, 'Washer': 13273, 'Hair dryer': 13190, 'Heating': 13071, 'Iron': 12708, 'Air conditioning': 10924, 'Hot water': 10861, 'TV': 10776, 'Shampoo': 10116, 'Dishes and silverware': 9371, 'Elevator': 9323}\n"
     ]
    }
   ],
   "source": [
    "# view the dictionary with the top 15 amenities, by frequency\n",
    "print(top_15_amenities)"
   ]
  },
  {
   "cell_type": "code",
   "execution_count": 124,
   "metadata": {},
   "outputs": [
    {
     "data": {
      "image/png": "[encoded data removed]",
      "text/plain": [
       "<Figure size 640x480 with 1 Axes>"
      ]
     },
     "metadata": {
      "needs_background": "light"
     },
     "output_type": "display_data"
    }
   ],
   "source": [
    "# plot the top 15 amenities\n",
    "figure(figsize=(8, 6), dpi=80)\n",
    "data = top_15_amenities\n",
    "keys = list(top_15_amenities.keys())\n",
    "values = list(top_15_amenities.values())\n",
    "plt.bar(range(len(data)), values, tick_label=keys, color='navy')\n",
    "plt.xlabel('Amenity')\n",
    "plt.ylabel('Count')\n",
    "plt.title('Top 15 amenities')\n",
    "plt.xticks(rotation=90, ha='left')\n",
    "plt.show()"
   ]
  },
  {
   "cell_type": "markdown",
   "metadata": {},
   "source": [
    "### 2.2: Question 2: What are the top locations (neighbourhood and room type) in terms of popularity?"
   ]
  },
  {
   "cell_type": "markdown",
   "metadata": {},
   "source": [
    "#### 2.2.1. Neighbourhoods"
   ]
  },
  {
   "cell_type": "code",
   "execution_count": 130,
   "metadata": {},
   "outputs": [],
   "source": [
    "# create a subset of the dataset containg only the columns indicating the neighbourhood and the neighbourhood score\n",
    "neighbourhood_df = listings_df[['neighbourhood_cleansed', 'neighbourhood_group_cleansed', 'review_scores_location']]"
   ]
  },
  {
   "cell_type": "code",
   "execution_count": 131,
   "metadata": {},
   "outputs": [
    {
     "data": {
      "text/plain": [
       "(17079, 3)"
      ]
     },
     "execution_count": 131,
     "metadata": {},
     "output_type": "execute_result"
    }
   ],
   "source": [
    "# check the shape of the neighbourhood_df\n",
    "neighbourhood_df.shape"
   ]
  },
  {
   "cell_type": "code",
   "execution_count": 132,
   "metadata": {},
   "outputs": [
    {
     "data": {
      "text/plain": [
       "Index(['neighbourhood_cleansed', 'neighbourhood_group_cleansed',\n",
       "       'review_scores_location'],\n",
       "      dtype='object')"
      ]
     },
     "execution_count": 132,
     "metadata": {},
     "output_type": "execute_result"
    }
   ],
   "source": [
    "# check the neighbourhood_df columns\n",
    "neighbourhood_df.columns"
   ]
  },
  {
   "cell_type": "code",
   "execution_count": 133,
   "metadata": {},
   "outputs": [],
   "source": [
    "# drop rows from dataframe where no location review is available\n",
    "neighbourhood_df = neighbourhood_df.dropna(subset=['review_scores_location'], axis=0)"
   ]
  },
  {
   "cell_type": "code",
   "execution_count": 134,
   "metadata": {},
   "outputs": [
    {
     "data": {
      "text/plain": [
       "(11783, 3)"
      ]
     },
     "execution_count": 134,
     "metadata": {},
     "output_type": "execute_result"
    }
   ],
   "source": [
    "# review the shape of the neighbourhood_df\n",
    "neighbourhood_df.shape"
   ]
  },
  {
   "cell_type": "code",
   "execution_count": 135,
   "metadata": {},
   "outputs": [],
   "source": [
    "# calculate the average rating for the neighbourhood groups\n",
    "neighbourhood_groups_rating_df = neighbourhood_df.groupby(\n",
    "                                     by= ['neighbourhood_group_cleansed']).agg(\n",
    "                                     neighbourhood_rating=('review_scores_location', np.mean)).sort_values(\n",
    "                                         by='neighbourhood_rating',\n",
    "                                         ascending=False\n",
    "                                         )"
   ]
  },
  {
   "cell_type": "code",
   "execution_count": 136,
   "metadata": {},
   "outputs": [
    {
     "data": {
      "text/html": [
       "<div>\n",
       "<style scoped>\n",
       "    .dataframe tbody tr th:only-of-type {\n",
       "        vertical-align: middle;\n",
       "    }\n",
       "\n",
       "    .dataframe tbody tr th {\n",
       "        vertical-align: top;\n",
       "    }\n",
       "\n",
       "    .dataframe thead th {\n",
       "        text-align: right;\n",
       "    }\n",
       "</style>\n",
       "<table border=\"1\" class=\"dataframe\">\n",
       "  <thead>\n",
       "    <tr style=\"text-align: right;\">\n",
       "      <th></th>\n",
       "      <th>neighbourhood_rating</th>\n",
       "    </tr>\n",
       "    <tr>\n",
       "      <th>neighbourhood_group_cleansed</th>\n",
       "      <th></th>\n",
       "    </tr>\n",
       "  </thead>\n",
       "  <tbody>\n",
       "    <tr>\n",
       "      <th>Eixample</th>\n",
       "      <td>4.830541</td>\n",
       "    </tr>\n",
       "    <tr>\n",
       "      <th>Ciutat Vella</th>\n",
       "      <td>4.797813</td>\n",
       "    </tr>\n",
       "    <tr>\n",
       "      <th>Gràcia</th>\n",
       "      <td>4.774622</td>\n",
       "    </tr>\n",
       "    <tr>\n",
       "      <th>Sants-Montjuïc</th>\n",
       "      <td>4.712753</td>\n",
       "    </tr>\n",
       "    <tr>\n",
       "      <th>Sarrià-Sant Gervasi</th>\n",
       "      <td>4.675966</td>\n",
       "    </tr>\n",
       "    <tr>\n",
       "      <th>Sant Martí</th>\n",
       "      <td>4.673158</td>\n",
       "    </tr>\n",
       "    <tr>\n",
       "      <th>Les Corts</th>\n",
       "      <td>4.652163</td>\n",
       "    </tr>\n",
       "    <tr>\n",
       "      <th>Horta-Guinardó</th>\n",
       "      <td>4.536324</td>\n",
       "    </tr>\n",
       "    <tr>\n",
       "      <th>Sant Andreu</th>\n",
       "      <td>4.527310</td>\n",
       "    </tr>\n",
       "    <tr>\n",
       "      <th>Nou Barris</th>\n",
       "      <td>4.490000</td>\n",
       "    </tr>\n",
       "  </tbody>\n",
       "</table>\n",
       "</div>"
      ],
      "text/plain": [
       "                              neighbourhood_rating\n",
       "neighbourhood_group_cleansed                      \n",
       "Eixample                                  4.830541\n",
       "Ciutat Vella                              4.797813\n",
       "Gràcia                                    4.774622\n",
       "Sants-Montjuïc                            4.712753\n",
       "Sarrià-Sant Gervasi                       4.675966\n",
       "Sant Martí                                4.673158\n",
       "Les Corts                                 4.652163\n",
       "Horta-Guinardó                            4.536324\n",
       "Sant Andreu                               4.527310\n",
       "Nou Barris                                4.490000"
      ]
     },
     "execution_count": 136,
     "metadata": {},
     "output_type": "execute_result"
    }
   ],
   "source": [
    "# view the aggregated dataframe neighbourhood_groups_rating_df\n",
    "neighbourhood_groups_rating_df"
   ]
  },
  {
   "cell_type": "code",
   "execution_count": 137,
   "metadata": {},
   "outputs": [],
   "source": [
    "def create_barplot(x, y, ylabel, xlabel, title, size):\n",
    "    \"\"\"\n",
    "    This function creates a seaborn barplot based on the parameters indicated\n",
    "    Arguments:\n",
    "        x - data to be displayed on x-axis\n",
    "        y - data to be displayed on y-axix\n",
    "        ylabel - desired ylabel\n",
    "        xlabel - desired xlabel\n",
    "        title - desired title of the barplot\n",
    "        size - tuple setting the limit of the y-axis      \n",
    "    Returns:\n",
    "        None     \n",
    "    \"\"\"\n",
    "    figure(figsize=(8, 6), dpi=80)\n",
    "    g=sns.barplot(x=x, y=y)\n",
    "    plt.xticks(rotation=90)\n",
    "    plt.ylabel(ylabel)\n",
    "    plt.xlabel(xlabel)\n",
    "    plt.title(title)\n",
    "    ax=g\n",
    "    for p in ax.patches:\n",
    "        ax.annotate(\"%.2f\" % p.get_height(), (p.get_x() + p.get_width() / 2., p.get_height()),\n",
    "                    ha='center', va='center', fontsize=11, color='gray', xytext=(0, 20),\n",
    "                    textcoords='offset points')\n",
    "    _ = g.set_ylim(size)"
   ]
  },
  {
   "cell_type": "code",
   "execution_count": 141,
   "metadata": {},
   "outputs": [
    {
     "data": {
      "image/png": "[encoded data removed]",
      "text/plain": [
       "<Figure size 640x480 with 1 Axes>"
      ]
     },
     "metadata": {
      "needs_background": "light"
     },
     "output_type": "display_data"
    }
   ],
   "source": [
    "# execute create_barplot function on neighbourhood_groups_rating_df\n",
    "create_barplot(x=neighbourhood_groups_rating_df.index, \n",
    "               y=neighbourhood_groups_rating_df.neighbourhood_rating,\n",
    "               ylabel='Average Rating', \n",
    "               xlabel='Neighbourhood Group',\n",
    "               title='All 10 Neighbourhood Groups with Ratings',\n",
    "               size=(0, 5.5)\n",
    "              )"
   ]
  },
  {
   "cell_type": "code",
   "execution_count": 142,
   "metadata": {},
   "outputs": [
    {
     "data": {
      "text/plain": [
       "la Dreta de l'Eixample                   1423\n",
       "el Raval                                  919\n",
       "la Sagrada Família                        750\n",
       "el Barri Gòtic                            724\n",
       "Sant Pere, Santa Caterina i la Ribera     698\n",
       "                                         ... \n",
       "la Marina del Prat Vermell                  6\n",
       "Ciutat Meridiana                            3\n",
       "Baró de Viver                               1\n",
       "Torre Baró                                  1\n",
       "Can Peguera                                 1\n",
       "Name: neighbourhood_cleansed, Length: 70, dtype: int64"
      ]
     },
     "execution_count": 142,
     "metadata": {},
     "output_type": "execute_result"
    }
   ],
   "source": [
    "# find the top 10 neighbourhoods out of the more granular column 'neighbourhood_cleansed'\n",
    "# view the 'neighbourhood_cleansed' column\n",
    "neighbourhood_df['neighbourhood_cleansed'].value_counts()"
   ]
  },
  {
   "cell_type": "code",
   "execution_count": 143,
   "metadata": {},
   "outputs": [],
   "source": [
    "# find the top 10 neighbourhoods of neighbourhood_cleansed_column (more fine grained), in terms of average rating\n",
    "neighbourhood_rating_df = neighbourhood_df.groupby(by= ['neighbourhood_cleansed']).agg(\n",
    "                                                   neighbourhood_rating=('review_scores_location', np.mean)).sort_values(\n",
    "                                                        by='neighbourhood_rating',\n",
    "                                                        ascending=False\n",
    "                                                    )[0:10]"
   ]
  },
  {
   "cell_type": "code",
   "execution_count": 144,
   "metadata": {},
   "outputs": [
    {
     "data": {
      "text/html": [
       "<div>\n",
       "<style scoped>\n",
       "    .dataframe tbody tr th:only-of-type {\n",
       "        vertical-align: middle;\n",
       "    }\n",
       "\n",
       "    .dataframe tbody tr th {\n",
       "        vertical-align: top;\n",
       "    }\n",
       "\n",
       "    .dataframe thead th {\n",
       "        text-align: right;\n",
       "    }\n",
       "</style>\n",
       "<table border=\"1\" class=\"dataframe\">\n",
       "  <thead>\n",
       "    <tr style=\"text-align: right;\">\n",
       "      <th></th>\n",
       "      <th>neighbourhood_rating</th>\n",
       "    </tr>\n",
       "    <tr>\n",
       "      <th>neighbourhood_cleansed</th>\n",
       "      <th></th>\n",
       "    </tr>\n",
       "  </thead>\n",
       "  <tbody>\n",
       "    <tr>\n",
       "      <th>Can Peguera</th>\n",
       "      <td>4.910000</td>\n",
       "    </tr>\n",
       "    <tr>\n",
       "      <th>la Barceloneta</th>\n",
       "      <td>4.896091</td>\n",
       "    </tr>\n",
       "    <tr>\n",
       "      <th>la Dreta de l'Eixample</th>\n",
       "      <td>4.885228</td>\n",
       "    </tr>\n",
       "    <tr>\n",
       "      <th>Sant Pere, Santa Caterina i la Ribera</th>\n",
       "      <td>4.860100</td>\n",
       "    </tr>\n",
       "    <tr>\n",
       "      <th>el Barri Gòtic</th>\n",
       "      <td>4.857279</td>\n",
       "    </tr>\n",
       "    <tr>\n",
       "      <th>l'Antiga Esquerra de l'Eixample</th>\n",
       "      <td>4.838045</td>\n",
       "    </tr>\n",
       "    <tr>\n",
       "      <th>la Vila de Gràcia</th>\n",
       "      <td>4.822062</td>\n",
       "    </tr>\n",
       "    <tr>\n",
       "      <th>la Sagrada Família</th>\n",
       "      <td>4.818707</td>\n",
       "    </tr>\n",
       "    <tr>\n",
       "      <th>Sant Antoni</th>\n",
       "      <td>4.804752</td>\n",
       "    </tr>\n",
       "    <tr>\n",
       "      <th>Vallvidrera, el Tibidabo i les Planes</th>\n",
       "      <td>4.795333</td>\n",
       "    </tr>\n",
       "  </tbody>\n",
       "</table>\n",
       "</div>"
      ],
      "text/plain": [
       "                                       neighbourhood_rating\n",
       "neighbourhood_cleansed                                     \n",
       "Can Peguera                                        4.910000\n",
       "la Barceloneta                                     4.896091\n",
       "la Dreta de l'Eixample                             4.885228\n",
       "Sant Pere, Santa Caterina i la Ribera              4.860100\n",
       "el Barri Gòtic                                     4.857279\n",
       "l'Antiga Esquerra de l'Eixample                    4.838045\n",
       "la Vila de Gràcia                                  4.822062\n",
       "la Sagrada Família                                 4.818707\n",
       "Sant Antoni                                        4.804752\n",
       "Vallvidrera, el Tibidabo i les Planes              4.795333"
      ]
     },
     "execution_count": 144,
     "metadata": {},
     "output_type": "execute_result"
    }
   ],
   "source": [
    "# view neighbourhood_rating_df \n",
    "neighbourhood_rating_df "
   ]
  },
  {
   "cell_type": "code",
   "execution_count": 145,
   "metadata": {},
   "outputs": [
    {
     "data": {
      "image/png": "[encoded data removed]",
      "text/plain": [
       "<Figure size 640x480 with 1 Axes>"
      ]
     },
     "metadata": {
      "needs_background": "light"
     },
     "output_type": "display_data"
    }
   ],
   "source": [
    "# execute create_barplot function on neighbourhood_rating_df\n",
    "create_barplot(x=neighbourhood_rating_df.index, \n",
    "               y=neighbourhood_rating_df.neighbourhood_rating,\n",
    "               ylabel='Average Rating', \n",
    "               xlabel='Neighbourhood',\n",
    "               title='Top 10 Neighbourhoods with Ratings',\n",
    "               size=(0, 5.5)\n",
    "              )"
   ]
  },
  {
   "cell_type": "markdown",
   "metadata": {},
   "source": [
    "#### 2.2.2. Room types"
   ]
  },
  {
   "cell_type": "code",
   "execution_count": 29,
   "metadata": {},
   "outputs": [
    {
     "data": {
      "text/plain": [
       "array(['Entire home/apt', 'Private room', 'Hotel room', 'Shared room'],\n",
       "      dtype=object)"
      ]
     },
     "execution_count": 29,
     "metadata": {},
     "output_type": "execute_result"
    }
   ],
   "source": [
    "# view possible room type values\n",
    "listings_df['room_type'].unique()"
   ]
  },
  {
   "cell_type": "code",
   "execution_count": 30,
   "metadata": {},
   "outputs": [],
   "source": [
    "# create df with room type column and location scores\n",
    "room_type_df = listings_df[['room_type', 'review_scores_location']].dropna(how='any')"
   ]
  },
  {
   "cell_type": "code",
   "execution_count": 147,
   "metadata": {},
   "outputs": [
    {
     "data": {
      "text/plain": [
       "(11783, 2)"
      ]
     },
     "execution_count": 147,
     "metadata": {},
     "output_type": "execute_result"
    }
   ],
   "source": [
    "# view shape of room_type_df\n",
    "room_type_df.shape"
   ]
  },
  {
   "cell_type": "code",
   "execution_count": 148,
   "metadata": {},
   "outputs": [],
   "source": [
    "# calculate the count for each of the roomtypes\n",
    "roomtype_count_df = room_type_df.groupby(by= ['room_type']).agg(\n",
    "                                                     roomtype_count=('review_scores_location', len)).sort_values(\n",
    "                                                         by='roomtype_count',\n",
    "                                                         ascending=False\n",
    "                                                                )"
   ]
  },
  {
   "cell_type": "code",
   "execution_count": 149,
   "metadata": {},
   "outputs": [
    {
     "data": {
      "text/html": [
       "<div>\n",
       "<style scoped>\n",
       "    .dataframe tbody tr th:only-of-type {\n",
       "        vertical-align: middle;\n",
       "    }\n",
       "\n",
       "    .dataframe tbody tr th {\n",
       "        vertical-align: top;\n",
       "    }\n",
       "\n",
       "    .dataframe thead th {\n",
       "        text-align: right;\n",
       "    }\n",
       "</style>\n",
       "<table border=\"1\" class=\"dataframe\">\n",
       "  <thead>\n",
       "    <tr style=\"text-align: right;\">\n",
       "      <th></th>\n",
       "      <th>roomtype_count</th>\n",
       "    </tr>\n",
       "    <tr>\n",
       "      <th>room_type</th>\n",
       "      <th></th>\n",
       "    </tr>\n",
       "  </thead>\n",
       "  <tbody>\n",
       "    <tr>\n",
       "      <th>Entire home/apt</th>\n",
       "      <td>6301.0</td>\n",
       "    </tr>\n",
       "    <tr>\n",
       "      <th>Private room</th>\n",
       "      <td>5208.0</td>\n",
       "    </tr>\n",
       "    <tr>\n",
       "      <th>Hotel room</th>\n",
       "      <td>177.0</td>\n",
       "    </tr>\n",
       "    <tr>\n",
       "      <th>Shared room</th>\n",
       "      <td>97.0</td>\n",
       "    </tr>\n",
       "  </tbody>\n",
       "</table>\n",
       "</div>"
      ],
      "text/plain": [
       "                 roomtype_count\n",
       "room_type                      \n",
       "Entire home/apt          6301.0\n",
       "Private room             5208.0\n",
       "Hotel room                177.0\n",
       "Shared room                97.0"
      ]
     },
     "execution_count": 149,
     "metadata": {},
     "output_type": "execute_result"
    }
   ],
   "source": [
    "# view roomtyp_count_df\n",
    "roomtype_count_df"
   ]
  },
  {
   "cell_type": "code",
   "execution_count": 150,
   "metadata": {},
   "outputs": [
    {
     "data": {
      "image/png": "[encoded data removed]",
      "text/plain": [
       "<Figure size 640x480 with 1 Axes>"
      ]
     },
     "metadata": {
      "needs_background": "light"
     },
     "output_type": "display_data"
    }
   ],
   "source": [
    "# execute create_barplot function on roomtype_count_df\n",
    "create_barplot(x=roomtype_count_df.index, \n",
    "               y=roomtype_count_df.roomtype_count,\n",
    "               ylabel='Count', \n",
    "               xlabel='Room Type',\n",
    "               title='Room Type Counts',\n",
    "               size=(0, 7000)\n",
    "              )"
   ]
  },
  {
   "cell_type": "code",
   "execution_count": 151,
   "metadata": {},
   "outputs": [],
   "source": [
    "# calculate the average rating for the roomtype\n",
    "roomtype_rating_df = room_type_df.groupby(by= ['room_type']).agg(\n",
    "                                                     roomtype_rating=('review_scores_location', np.mean)).sort_values(\n",
    "                                                        by='roomtype_rating',\n",
    "                                                        ascending=False\n",
    "                                                                      )"
   ]
  },
  {
   "cell_type": "code",
   "execution_count": 152,
   "metadata": {},
   "outputs": [
    {
     "data": {
      "text/html": [
       "<div>\n",
       "<style scoped>\n",
       "    .dataframe tbody tr th:only-of-type {\n",
       "        vertical-align: middle;\n",
       "    }\n",
       "\n",
       "    .dataframe tbody tr th {\n",
       "        vertical-align: top;\n",
       "    }\n",
       "\n",
       "    .dataframe thead th {\n",
       "        text-align: right;\n",
       "    }\n",
       "</style>\n",
       "<table border=\"1\" class=\"dataframe\">\n",
       "  <thead>\n",
       "    <tr style=\"text-align: right;\">\n",
       "      <th></th>\n",
       "      <th>roomtype_rating</th>\n",
       "    </tr>\n",
       "    <tr>\n",
       "      <th>room_type</th>\n",
       "      <th></th>\n",
       "    </tr>\n",
       "  </thead>\n",
       "  <tbody>\n",
       "    <tr>\n",
       "      <th>Hotel room</th>\n",
       "      <td>4.827627</td>\n",
       "    </tr>\n",
       "    <tr>\n",
       "      <th>Entire home/apt</th>\n",
       "      <td>4.762722</td>\n",
       "    </tr>\n",
       "    <tr>\n",
       "      <th>Private room</th>\n",
       "      <td>4.757488</td>\n",
       "    </tr>\n",
       "    <tr>\n",
       "      <th>Shared room</th>\n",
       "      <td>4.716289</td>\n",
       "    </tr>\n",
       "  </tbody>\n",
       "</table>\n",
       "</div>"
      ],
      "text/plain": [
       "                 roomtype_rating\n",
       "room_type                       \n",
       "Hotel room              4.827627\n",
       "Entire home/apt         4.762722\n",
       "Private room            4.757488\n",
       "Shared room             4.716289"
      ]
     },
     "execution_count": 152,
     "metadata": {},
     "output_type": "execute_result"
    }
   ],
   "source": [
    "# view roomtype_rating_df\n",
    "roomtype_rating_df"
   ]
  },
  {
   "cell_type": "code",
   "execution_count": 153,
   "metadata": {},
   "outputs": [
    {
     "data": {
      "image/png": "[encoded data removed]",
      "text/plain": [
       "<Figure size 640x480 with 1 Axes>"
      ]
     },
     "metadata": {
      "needs_background": "light"
     },
     "output_type": "display_data"
    }
   ],
   "source": [
    "# execute create_barplot function on roomtype_rating_df\n",
    "create_barplot(x=roomtype_rating_df.index, \n",
    "               y=roomtype_rating_df.roomtype_rating,\n",
    "               ylabel='Average Rating', \n",
    "               xlabel='Room Type',\n",
    "               title='Room Type Rating Average',\n",
    "               size=(0, 5.5)\n",
    "              )"
   ]
  },
  {
   "cell_type": "markdown",
   "metadata": {},
   "source": [
    "### 2.3: Question 3: What are the factors that relate to the price?"
   ]
  },
  {
   "cell_type": "code",
   "execution_count": 161,
   "metadata": {},
   "outputs": [
    {
     "data": {
      "text/plain": [
       "Index(['id', 'listing_url', 'scrape_id', 'last_scraped', 'name', 'description',\n",
       "       'neighborhood_overview', 'picture_url', 'host_id', 'host_url',\n",
       "       'host_name', 'host_since', 'host_location', 'host_about',\n",
       "       'host_response_time', 'host_response_rate', 'host_acceptance_rate',\n",
       "       'host_is_superhost', 'host_thumbnail_url', 'host_picture_url',\n",
       "       'host_neighbourhood', 'host_listings_count',\n",
       "       'host_total_listings_count', 'host_verifications',\n",
       "       'host_has_profile_pic', 'host_identity_verified', 'neighbourhood',\n",
       "       'neighbourhood_cleansed', 'neighbourhood_group_cleansed', 'latitude',\n",
       "       'longitude', 'property_type', 'room_type', 'accommodates', 'bathrooms',\n",
       "       'bathrooms_text', 'bedrooms', 'beds', 'amenities', 'price',\n",
       "       'minimum_nights', 'maximum_nights', 'minimum_minimum_nights',\n",
       "       'maximum_minimum_nights', 'minimum_maximum_nights',\n",
       "       'maximum_maximum_nights', 'minimum_nights_avg_ntm',\n",
       "       'maximum_nights_avg_ntm', 'calendar_updated', 'has_availability',\n",
       "       'availability_30', 'availability_60', 'availability_90',\n",
       "       'availability_365', 'calendar_last_scraped', 'number_of_reviews',\n",
       "       'number_of_reviews_ltm', 'number_of_reviews_l30d', 'first_review',\n",
       "       'last_review', 'review_scores_rating', 'review_scores_accuracy',\n",
       "       'review_scores_cleanliness', 'review_scores_checkin',\n",
       "       'review_scores_communication', 'review_scores_location',\n",
       "       'review_scores_value', 'license', 'instant_bookable',\n",
       "       'calculated_host_listings_count',\n",
       "       'calculated_host_listings_count_entire_homes',\n",
       "       'calculated_host_listings_count_private_rooms',\n",
       "       'calculated_host_listings_count_shared_rooms', 'reviews_per_month'],\n",
       "      dtype='object')"
      ]
     },
     "execution_count": 161,
     "metadata": {},
     "output_type": "execute_result"
    }
   ],
   "source": [
    "# reviewing of listings_df columns\n",
    "listings_df.columns"
   ]
  },
  {
   "cell_type": "code",
   "execution_count": 162,
   "metadata": {},
   "outputs": [],
   "source": [
    "# generate dataframe with relevant columns for the renting price, related to the building itself\n",
    "price_listings_df = listings_df[['id', 'neighbourhood_cleansed', 'neighbourhood_group_cleansed','property_type', 'room_type', \n",
    "             'accommodates', 'bathrooms_text', 'bedrooms', 'beds', 'price']]"
   ]
  },
  {
   "cell_type": "code",
   "execution_count": 163,
   "metadata": {},
   "outputs": [
    {
     "name": "stdout",
     "output_type": "stream",
     "text": [
      "<class 'pandas.core.frame.DataFrame'>\n",
      "RangeIndex: 17079 entries, 0 to 17078\n",
      "Data columns (total 10 columns):\n",
      " #   Column                        Non-Null Count  Dtype  \n",
      "---  ------                        --------------  -----  \n",
      " 0   id                            17079 non-null  int64  \n",
      " 1   neighbourhood_cleansed        17079 non-null  object \n",
      " 2   neighbourhood_group_cleansed  17079 non-null  object \n",
      " 3   property_type                 17079 non-null  object \n",
      " 4   room_type                     17079 non-null  object \n",
      " 5   accommodates                  17079 non-null  int64  \n",
      " 6   bathrooms_text                17059 non-null  object \n",
      " 7   bedrooms                      16504 non-null  float64\n",
      " 8   beds                          16738 non-null  float64\n",
      " 9   price                         17079 non-null  object \n",
      "dtypes: float64(2), int64(2), object(6)\n",
      "memory usage: 1.3+ MB\n"
     ]
    }
   ],
   "source": [
    "g# get an overview of the datatypes in the relevant columns\n",
    "price_listings_df.info()"
   ]
  },
  {
   "cell_type": "code",
   "execution_count": 164,
   "metadata": {},
   "outputs": [
    {
     "data": {
      "text/plain": [
       "array(['2 baths', '1.5 baths', '1 private bath', '3 baths',\n",
       "       '2 shared baths', '1 shared bath', '1 bath', '1.5 shared baths',\n",
       "       '3.5 baths', '2.5 baths', '4 baths', 'Shared half-bath', nan,\n",
       "       '2.5 shared baths', '7.5 baths', '5.5 baths', '4.5 baths',\n",
       "       '6 baths', 'Half-bath', '0 shared baths', 'Private half-bath',\n",
       "       '4.5 shared baths', '0 baths', '3.5 shared baths', '5 baths',\n",
       "       '8 baths', '7 baths', '3 shared baths', '11 shared baths',\n",
       "       '4 shared baths', '5 shared baths', '7 shared baths',\n",
       "       '8 shared baths', '7.5 shared baths', '16 baths', '6.5 baths'],\n",
       "      dtype=object)"
      ]
     },
     "execution_count": 164,
     "metadata": {},
     "output_type": "execute_result"
    }
   ],
   "source": [
    "# view values of bathrooms_text column\n",
    "price_listings_df['bathrooms_text'].unique()"
   ]
  },
  {
   "cell_type": "code",
   "execution_count": 165,
   "metadata": {},
   "outputs": [],
   "source": [
    "# drop rows with missing values from the dataset\n",
    "price_listings_df = price_listings_df.dropna(how='any')"
   ]
  },
  {
   "cell_type": "code",
   "execution_count": 166,
   "metadata": {},
   "outputs": [
    {
     "data": {
      "text/plain": [
       "(16163, 10)"
      ]
     },
     "execution_count": 166,
     "metadata": {},
     "output_type": "execute_result"
    }
   ],
   "source": [
    "# check the shape of the dataset, after removing missing values\n",
    "price_listings_df.shape"
   ]
  },
  {
   "cell_type": "code",
   "execution_count": 167,
   "metadata": {},
   "outputs": [],
   "source": [
    "# prepare categorical data, columns 'neighbourhood_cleansed', 'neighbourhood_group_cleansed','property_type', 'room_type',\n",
    "# 'bathrooms_text'\n",
    "cat_df = price_listings_df[['neighbourhood_cleansed', \n",
    "                            'neighbourhood_group_cleansed',\n",
    "                            'property_type',\n",
    "                            'room_type', 'bathrooms_text']].select_dtypes(include=['object'])\n",
    "cat_df_dummies = pd.get_dummies(data=cat_df, dummy_na=False)"
   ]
  },
  {
   "cell_type": "code",
   "execution_count": 168,
   "metadata": {},
   "outputs": [],
   "source": [
    "# prepare numerical data, columns id, bedrooms, beds, price\n",
    "# no action needed for the columns id, bedrooms and beds, only the values in column price need to be converted\n",
    "# into a numerical format\n",
    "price_listings_df['price'].values\n",
    "price_listings_df['price'].values\n",
    "price_listings_df['numeric_price'] = price_listings_df['price'].apply(lambda x: int(float(x.strip('$').replace(',', ''))))\n",
    "num_df = price_listings_df[['id', 'bedrooms', 'beds', 'accommodates', 'numeric_price']]"
   ]
  },
  {
   "cell_type": "code",
   "execution_count": 169,
   "metadata": {},
   "outputs": [],
   "source": [
    "# unite the reshaped categorical dataset cat_df_dummies and the processed numerical dataset num_df\n",
    "price_df_with_dummies = pd.concat([cat_df_dummies, num_df], axis=1, join='outer')"
   ]
  },
  {
   "cell_type": "code",
   "execution_count": 170,
   "metadata": {},
   "outputs": [
    {
     "data": {
      "text/html": [
       "<div>\n",
       "<style scoped>\n",
       "    .dataframe tbody tr th:only-of-type {\n",
       "        vertical-align: middle;\n",
       "    }\n",
       "\n",
       "    .dataframe tbody tr th {\n",
       "        vertical-align: top;\n",
       "    }\n",
       "\n",
       "    .dataframe thead th {\n",
       "        text-align: right;\n",
       "    }\n",
       "</style>\n",
       "<table border=\"1\" class=\"dataframe\">\n",
       "  <thead>\n",
       "    <tr style=\"text-align: right;\">\n",
       "      <th></th>\n",
       "      <th>neighbourhood_cleansed_Baró de Viver</th>\n",
       "      <th>neighbourhood_cleansed_Can Baró</th>\n",
       "      <th>neighbourhood_cleansed_Can Peguera</th>\n",
       "      <th>neighbourhood_cleansed_Canyelles</th>\n",
       "      <th>neighbourhood_cleansed_Ciutat Meridiana</th>\n",
       "      <th>neighbourhood_cleansed_Diagonal Mar i el Front Marítim del Poblenou</th>\n",
       "      <th>neighbourhood_cleansed_Horta</th>\n",
       "      <th>neighbourhood_cleansed_Hostafrancs</th>\n",
       "      <th>neighbourhood_cleansed_Montbau</th>\n",
       "      <th>neighbourhood_cleansed_Navas</th>\n",
       "      <th>...</th>\n",
       "      <th>bathrooms_text_8 baths</th>\n",
       "      <th>bathrooms_text_8 shared baths</th>\n",
       "      <th>bathrooms_text_Half-bath</th>\n",
       "      <th>bathrooms_text_Private half-bath</th>\n",
       "      <th>bathrooms_text_Shared half-bath</th>\n",
       "      <th>id</th>\n",
       "      <th>bedrooms</th>\n",
       "      <th>beds</th>\n",
       "      <th>accommodates</th>\n",
       "      <th>numeric_price</th>\n",
       "    </tr>\n",
       "  </thead>\n",
       "  <tbody>\n",
       "    <tr>\n",
       "      <th>0</th>\n",
       "      <td>0</td>\n",
       "      <td>0</td>\n",
       "      <td>0</td>\n",
       "      <td>0</td>\n",
       "      <td>0</td>\n",
       "      <td>0</td>\n",
       "      <td>0</td>\n",
       "      <td>0</td>\n",
       "      <td>0</td>\n",
       "      <td>0</td>\n",
       "      <td>...</td>\n",
       "      <td>0</td>\n",
       "      <td>0</td>\n",
       "      <td>0</td>\n",
       "      <td>0</td>\n",
       "      <td>0</td>\n",
       "      <td>18674</td>\n",
       "      <td>3.0</td>\n",
       "      <td>6.0</td>\n",
       "      <td>8</td>\n",
       "      <td>169</td>\n",
       "    </tr>\n",
       "    <tr>\n",
       "      <th>1</th>\n",
       "      <td>0</td>\n",
       "      <td>0</td>\n",
       "      <td>0</td>\n",
       "      <td>0</td>\n",
       "      <td>0</td>\n",
       "      <td>0</td>\n",
       "      <td>0</td>\n",
       "      <td>0</td>\n",
       "      <td>0</td>\n",
       "      <td>0</td>\n",
       "      <td>...</td>\n",
       "      <td>0</td>\n",
       "      <td>0</td>\n",
       "      <td>0</td>\n",
       "      <td>0</td>\n",
       "      <td>0</td>\n",
       "      <td>23197</td>\n",
       "      <td>3.0</td>\n",
       "      <td>5.0</td>\n",
       "      <td>6</td>\n",
       "      <td>240</td>\n",
       "    </tr>\n",
       "    <tr>\n",
       "      <th>2</th>\n",
       "      <td>0</td>\n",
       "      <td>0</td>\n",
       "      <td>0</td>\n",
       "      <td>0</td>\n",
       "      <td>0</td>\n",
       "      <td>0</td>\n",
       "      <td>0</td>\n",
       "      <td>0</td>\n",
       "      <td>0</td>\n",
       "      <td>0</td>\n",
       "      <td>...</td>\n",
       "      <td>0</td>\n",
       "      <td>0</td>\n",
       "      <td>0</td>\n",
       "      <td>0</td>\n",
       "      <td>0</td>\n",
       "      <td>32711</td>\n",
       "      <td>2.0</td>\n",
       "      <td>3.0</td>\n",
       "      <td>6</td>\n",
       "      <td>144</td>\n",
       "    </tr>\n",
       "    <tr>\n",
       "      <th>3</th>\n",
       "      <td>0</td>\n",
       "      <td>0</td>\n",
       "      <td>0</td>\n",
       "      <td>0</td>\n",
       "      <td>0</td>\n",
       "      <td>0</td>\n",
       "      <td>0</td>\n",
       "      <td>0</td>\n",
       "      <td>0</td>\n",
       "      <td>0</td>\n",
       "      <td>...</td>\n",
       "      <td>0</td>\n",
       "      <td>0</td>\n",
       "      <td>0</td>\n",
       "      <td>0</td>\n",
       "      <td>0</td>\n",
       "      <td>34241</td>\n",
       "      <td>1.0</td>\n",
       "      <td>1.0</td>\n",
       "      <td>2</td>\n",
       "      <td>50</td>\n",
       "    </tr>\n",
       "    <tr>\n",
       "      <th>4</th>\n",
       "      <td>0</td>\n",
       "      <td>0</td>\n",
       "      <td>0</td>\n",
       "      <td>0</td>\n",
       "      <td>0</td>\n",
       "      <td>0</td>\n",
       "      <td>0</td>\n",
       "      <td>0</td>\n",
       "      <td>0</td>\n",
       "      <td>0</td>\n",
       "      <td>...</td>\n",
       "      <td>0</td>\n",
       "      <td>0</td>\n",
       "      <td>0</td>\n",
       "      <td>0</td>\n",
       "      <td>0</td>\n",
       "      <td>34981</td>\n",
       "      <td>4.0</td>\n",
       "      <td>6.0</td>\n",
       "      <td>9</td>\n",
       "      <td>283</td>\n",
       "    </tr>\n",
       "  </tbody>\n",
       "</table>\n",
       "<p>5 rows × 183 columns</p>\n",
       "</div>"
      ],
      "text/plain": [
       "   neighbourhood_cleansed_Baró de Viver  neighbourhood_cleansed_Can Baró  \\\n",
       "0                                     0                                0   \n",
       "1                                     0                                0   \n",
       "2                                     0                                0   \n",
       "3                                     0                                0   \n",
       "4                                     0                                0   \n",
       "\n",
       "   neighbourhood_cleansed_Can Peguera  neighbourhood_cleansed_Canyelles  \\\n",
       "0                                   0                                 0   \n",
       "1                                   0                                 0   \n",
       "2                                   0                                 0   \n",
       "3                                   0                                 0   \n",
       "4                                   0                                 0   \n",
       "\n",
       "   neighbourhood_cleansed_Ciutat Meridiana  \\\n",
       "0                                        0   \n",
       "1                                        0   \n",
       "2                                        0   \n",
       "3                                        0   \n",
       "4                                        0   \n",
       "\n",
       "   neighbourhood_cleansed_Diagonal Mar i el Front Marítim del Poblenou  \\\n",
       "0                                                  0                     \n",
       "1                                                  0                     \n",
       "2                                                  0                     \n",
       "3                                                  0                     \n",
       "4                                                  0                     \n",
       "\n",
       "   neighbourhood_cleansed_Horta  neighbourhood_cleansed_Hostafrancs  \\\n",
       "0                             0                                   0   \n",
       "1                             0                                   0   \n",
       "2                             0                                   0   \n",
       "3                             0                                   0   \n",
       "4                             0                                   0   \n",
       "\n",
       "   neighbourhood_cleansed_Montbau  neighbourhood_cleansed_Navas  ...  \\\n",
       "0                               0                             0  ...   \n",
       "1                               0                             0  ...   \n",
       "2                               0                             0  ...   \n",
       "3                               0                             0  ...   \n",
       "4                               0                             0  ...   \n",
       "\n",
       "   bathrooms_text_8 baths  bathrooms_text_8 shared baths  \\\n",
       "0                       0                              0   \n",
       "1                       0                              0   \n",
       "2                       0                              0   \n",
       "3                       0                              0   \n",
       "4                       0                              0   \n",
       "\n",
       "   bathrooms_text_Half-bath  bathrooms_text_Private half-bath  \\\n",
       "0                         0                                 0   \n",
       "1                         0                                 0   \n",
       "2                         0                                 0   \n",
       "3                         0                                 0   \n",
       "4                         0                                 0   \n",
       "\n",
       "   bathrooms_text_Shared half-bath     id  bedrooms  beds  accommodates  \\\n",
       "0                                0  18674       3.0   6.0             8   \n",
       "1                                0  23197       3.0   5.0             6   \n",
       "2                                0  32711       2.0   3.0             6   \n",
       "3                                0  34241       1.0   1.0             2   \n",
       "4                                0  34981       4.0   6.0             9   \n",
       "\n",
       "   numeric_price  \n",
       "0            169  \n",
       "1            240  \n",
       "2            144  \n",
       "3             50  \n",
       "4            283  \n",
       "\n",
       "[5 rows x 183 columns]"
      ]
     },
     "execution_count": 170,
     "metadata": {},
     "output_type": "execute_result"
    }
   ],
   "source": [
    "# view the united dataset price_df_with_dummies\n",
    "price_df_with_dummies.head()"
   ]
  },
  {
   "cell_type": "code",
   "execution_count": 85,
   "metadata": {},
   "outputs": [],
   "source": [
    "# define X features and y target\n",
    "X = price_df_with_dummies.drop(['numeric_price'], axis=1)"
   ]
  },
  {
   "cell_type": "code",
   "execution_count": 86,
   "metadata": {},
   "outputs": [
    {
     "data": {
      "text/plain": [
       "(16163, 182)"
      ]
     },
     "execution_count": 86,
     "metadata": {},
     "output_type": "execute_result"
    }
   ],
   "source": [
    "X.shape"
   ]
  },
  {
   "cell_type": "code",
   "execution_count": 87,
   "metadata": {},
   "outputs": [],
   "source": [
    "y = price_df_with_dummies['numeric_price']"
   ]
  },
  {
   "cell_type": "code",
   "execution_count": 88,
   "metadata": {},
   "outputs": [
    {
     "data": {
      "text/plain": [
       "(16163,)"
      ]
     },
     "execution_count": 88,
     "metadata": {},
     "output_type": "execute_result"
    }
   ],
   "source": [
    "y.shape"
   ]
  },
  {
   "cell_type": "code",
   "execution_count": 89,
   "metadata": {},
   "outputs": [],
   "source": [
    "# create a train and test dataset for X and y\n",
    "X_train, X_test, y_train, y_test = train_test_split(X, y, test_size=0.33, random_state=42)"
   ]
  },
  {
   "cell_type": "code",
   "execution_count": 90,
   "metadata": {},
   "outputs": [
    {
     "data": {
      "text/plain": [
       "LinearRegression(copy_X=True, fit_intercept=True, n_jobs=None, normalize=False)"
      ]
     },
     "execution_count": 90,
     "metadata": {},
     "output_type": "execute_result"
    }
   ],
   "source": [
    "# instantiate linear model and fit it with the training data = data modelling\n",
    "lm =  LinearRegression()\n",
    "lm.fit(X_train, y_train)"
   ]
  },
  {
   "cell_type": "code",
   "execution_count": 91,
   "metadata": {},
   "outputs": [
    {
     "name": "stdout",
     "output_type": "stream",
     "text": [
      "0.07843101378093809\n"
     ]
    }
   ],
   "source": [
    "# model evaluation\n",
    "predictions = lm.predict(X_test)\n",
    "print(r2_score(y_test, predictions))"
   ]
  },
  {
   "cell_type": "code",
   "execution_count": 95,
   "metadata": {},
   "outputs": [
    {
     "data": {
      "text/html": [
       "<div>\n",
       "<style scoped>\n",
       "    .dataframe tbody tr th:only-of-type {\n",
       "        vertical-align: middle;\n",
       "    }\n",
       "\n",
       "    .dataframe tbody tr th {\n",
       "        vertical-align: top;\n",
       "    }\n",
       "\n",
       "    .dataframe thead th {\n",
       "        text-align: right;\n",
       "    }\n",
       "</style>\n",
       "<table border=\"1\" class=\"dataframe\">\n",
       "  <thead>\n",
       "    <tr style=\"text-align: right;\">\n",
       "      <th></th>\n",
       "      <th>id</th>\n",
       "      <th>bedrooms</th>\n",
       "      <th>beds</th>\n",
       "      <th>accommodates</th>\n",
       "      <th>numeric_price</th>\n",
       "    </tr>\n",
       "  </thead>\n",
       "  <tbody>\n",
       "    <tr>\n",
       "      <th>0</th>\n",
       "      <td>18674</td>\n",
       "      <td>3.0</td>\n",
       "      <td>6.0</td>\n",
       "      <td>8</td>\n",
       "      <td>169</td>\n",
       "    </tr>\n",
       "    <tr>\n",
       "      <th>1</th>\n",
       "      <td>23197</td>\n",
       "      <td>3.0</td>\n",
       "      <td>5.0</td>\n",
       "      <td>6</td>\n",
       "      <td>240</td>\n",
       "    </tr>\n",
       "    <tr>\n",
       "      <th>2</th>\n",
       "      <td>32711</td>\n",
       "      <td>2.0</td>\n",
       "      <td>3.0</td>\n",
       "      <td>6</td>\n",
       "      <td>144</td>\n",
       "    </tr>\n",
       "    <tr>\n",
       "      <th>3</th>\n",
       "      <td>34241</td>\n",
       "      <td>1.0</td>\n",
       "      <td>1.0</td>\n",
       "      <td>2</td>\n",
       "      <td>50</td>\n",
       "    </tr>\n",
       "    <tr>\n",
       "      <th>4</th>\n",
       "      <td>34981</td>\n",
       "      <td>4.0</td>\n",
       "      <td>6.0</td>\n",
       "      <td>9</td>\n",
       "      <td>283</td>\n",
       "    </tr>\n",
       "  </tbody>\n",
       "</table>\n",
       "</div>"
      ],
      "text/plain": [
       "      id  bedrooms  beds  accommodates  numeric_price\n",
       "0  18674       3.0   6.0             8            169\n",
       "1  23197       3.0   5.0             6            240\n",
       "2  32711       2.0   3.0             6            144\n",
       "3  34241       1.0   1.0             2             50\n",
       "4  34981       4.0   6.0             9            283"
      ]
     },
     "execution_count": 95,
     "metadata": {},
     "output_type": "execute_result"
    }
   ],
   "source": [
    "# retrain model only with num_df features\n",
    "num_df.head()"
   ]
  },
  {
   "cell_type": "code",
   "execution_count": 171,
   "metadata": {},
   "outputs": [
    {
     "data": {
      "text/plain": [
       "<matplotlib.axes._subplots.AxesSubplot at 0x26a59347ac8>"
      ]
     },
     "execution_count": 171,
     "metadata": {},
     "output_type": "execute_result"
    },
    {
     "data": {
      "image/png": "[encoded data removed]",
      "text/plain": [
       "<Figure size 432x288 with 2 Axes>"
      ]
     },
     "metadata": {
      "needs_background": "light"
     },
     "output_type": "display_data"
    }
   ],
   "source": [
    "# view correlations in num_df\n",
    "sns.heatmap(num_df.drop('id', axis=1).corr(), cmap='viridis')"
   ]
  },
  {
   "cell_type": "code",
   "execution_count": 172,
   "metadata": {},
   "outputs": [
    {
     "data": {
      "text/plain": [
       "(16163, 4)"
      ]
     },
     "execution_count": 172,
     "metadata": {},
     "output_type": "execute_result"
    }
   ],
   "source": [
    "# define X features and y target for num_df\n",
    "X = num_df.drop('numeric_price', axis=1)\n",
    "X.shape"
   ]
  },
  {
   "cell_type": "code",
   "execution_count": 173,
   "metadata": {},
   "outputs": [
    {
     "data": {
      "text/plain": [
       "(16163,)"
      ]
     },
     "execution_count": 173,
     "metadata": {},
     "output_type": "execute_result"
    }
   ],
   "source": [
    "y = num_df['numeric_price']\n",
    "y.shape"
   ]
  },
  {
   "cell_type": "code",
   "execution_count": 174,
   "metadata": {},
   "outputs": [],
   "source": [
    "# split data into test and train data\n",
    "X_train, X_test, y_train, y_test = train_test_split(X, y, test_size=0.33, random_state=42)"
   ]
  },
  {
   "cell_type": "code",
   "execution_count": 175,
   "metadata": {},
   "outputs": [
    {
     "data": {
      "text/plain": [
       "LinearRegression(copy_X=True, fit_intercept=True, n_jobs=None, normalize=False)"
      ]
     },
     "execution_count": 175,
     "metadata": {},
     "output_type": "execute_result"
    }
   ],
   "source": [
    "# instantiate linear regression model and fit it with the training data\n",
    "lm = LinearRegression()\n",
    "\n",
    "lm.fit(X_train, y_train)"
   ]
  },
  {
   "cell_type": "code",
   "execution_count": 176,
   "metadata": {},
   "outputs": [],
   "source": [
    "# predict y values for X_test data\n",
    "predictions = lm.predict(X_test)"
   ]
  },
  {
   "cell_type": "code",
   "execution_count": 177,
   "metadata": {},
   "outputs": [
    {
     "data": {
      "text/plain": [
       "0.05025284907109684"
      ]
     },
     "execution_count": 177,
     "metadata": {},
     "output_type": "execute_result"
    }
   ],
   "source": [
    "# evaluate the model\n",
    "r2_score(y_test, predictions)"
   ]
  }
 ],
 "metadata": {
  "kernelspec": {
   "display_name": "Python 3",
   "language": "python",
   "name": "python3"
  },
  "language_info": {
   "codemirror_mode": {
    "name": "ipython",
    "version": 3
   },
   "file_extension": ".py",
   "mimetype": "text/x-python",
   "name": "python",
   "nbconvert_exporter": "python",
   "pygments_lexer": "ipython3",
   "version": "3.7.6"
  }
 },
 "nbformat": 4,
 "nbformat_minor": 4
}
